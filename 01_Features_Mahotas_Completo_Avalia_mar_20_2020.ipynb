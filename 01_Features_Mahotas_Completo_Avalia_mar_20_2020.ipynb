{
  "nbformat": 4,
  "nbformat_minor": 0,
  "metadata": {
    "colab": {
      "name": "01_Features_Mahotas_Completo_Avalia_mar_20_2020.ipynb",
      "provenance": [],
      "collapsed_sections": [],
      "include_colab_link": true
    },
    "kernelspec": {
      "name": "python3",
      "display_name": "Python 3"
    },
    "accelerator": "GPU"
  },
  "cells": [
    {
      "cell_type": "markdown",
      "metadata": {
        "id": "view-in-github",
        "colab_type": "text"
      },
      "source": [
        "<a href=\"https://colab.research.google.com/github/ucfilho/marquesgabi_abril_2020/blob/master/01_Features_Mahotas_Completo_Avalia_mar_20_2020.ipynb\" target=\"_parent\"><img src=\"https://colab.research.google.com/assets/colab-badge.svg\" alt=\"Open In Colab\"/></a>"
      ]
    },
    {
      "cell_type": "code",
      "metadata": {
        "id": "f393Z8HdEmRg",
        "colab_type": "code",
        "outputId": "a234cce2-4621-4b77-8de5-121114f04ff0",
        "colab": {
          "base_uri": "https://localhost:8080/",
          "height": 228
        }
      },
      "source": [
        "!pip install mahotas"
      ],
      "execution_count": 1,
      "outputs": [
        {
          "output_type": "stream",
          "text": [
            "Collecting mahotas\n",
            "\u001b[?25l  Downloading https://files.pythonhosted.org/packages/84/74/bd38163462eb346519f36dc205f0a52a01fb372c7bbcc87392c9b21cfe26/mahotas-1.4.9.tar.gz (1.5MB)\n",
            "\r\u001b[K     |▏                               | 10kB 24.9MB/s eta 0:00:01\r\u001b[K     |▍                               | 20kB 30.3MB/s eta 0:00:01\r\u001b[K     |▋                               | 30kB 20.3MB/s eta 0:00:01\r\u001b[K     |▉                               | 40kB 17.1MB/s eta 0:00:01\r\u001b[K     |█                               | 51kB 12.8MB/s eta 0:00:01\r\u001b[K     |█▎                              | 61kB 12.3MB/s eta 0:00:01\r\u001b[K     |█▌                              | 71kB 11.0MB/s eta 0:00:01\r\u001b[K     |█▊                              | 81kB 11.7MB/s eta 0:00:01\r\u001b[K     |██                              | 92kB 10.2MB/s eta 0:00:01\r\u001b[K     |██▏                             | 102kB 10.9MB/s eta 0:00:01\r\u001b[K     |██▍                             | 112kB 10.9MB/s eta 0:00:01\r\u001b[K     |██▋                             | 122kB 10.9MB/s eta 0:00:01\r\u001b[K     |██▉                             | 133kB 10.9MB/s eta 0:00:01\r\u001b[K     |███                             | 143kB 10.9MB/s eta 0:00:01\r\u001b[K     |███▏                            | 153kB 10.9MB/s eta 0:00:01\r\u001b[K     |███▍                            | 163kB 10.9MB/s eta 0:00:01\r\u001b[K     |███▋                            | 174kB 10.9MB/s eta 0:00:01\r\u001b[K     |███▉                            | 184kB 10.9MB/s eta 0:00:01\r\u001b[K     |████                            | 194kB 10.9MB/s eta 0:00:01\r\u001b[K     |████▎                           | 204kB 10.9MB/s eta 0:00:01\r\u001b[K     |████▌                           | 215kB 10.9MB/s eta 0:00:01\r\u001b[K     |████▊                           | 225kB 10.9MB/s eta 0:00:01\r\u001b[K     |█████                           | 235kB 10.9MB/s eta 0:00:01\r\u001b[K     |█████▏                          | 245kB 10.9MB/s eta 0:00:01\r\u001b[K     |█████▍                          | 256kB 10.9MB/s eta 0:00:01\r\u001b[K     |█████▋                          | 266kB 10.9MB/s eta 0:00:01\r\u001b[K     |█████▊                          | 276kB 10.9MB/s eta 0:00:01\r\u001b[K     |██████                          | 286kB 10.9MB/s eta 0:00:01\r\u001b[K     |██████▏                         | 296kB 10.9MB/s eta 0:00:01\r\u001b[K     |██████▍                         | 307kB 10.9MB/s eta 0:00:01\r\u001b[K     |██████▋                         | 317kB 10.9MB/s eta 0:00:01\r\u001b[K     |██████▉                         | 327kB 10.9MB/s eta 0:00:01\r\u001b[K     |███████                         | 337kB 10.9MB/s eta 0:00:01\r\u001b[K     |███████▎                        | 348kB 10.9MB/s eta 0:00:01\r\u001b[K     |███████▌                        | 358kB 10.9MB/s eta 0:00:01\r\u001b[K     |███████▊                        | 368kB 10.9MB/s eta 0:00:01\r\u001b[K     |████████                        | 378kB 10.9MB/s eta 0:00:01\r\u001b[K     |████████▏                       | 389kB 10.9MB/s eta 0:00:01\r\u001b[K     |████████▍                       | 399kB 10.9MB/s eta 0:00:01\r\u001b[K     |████████▋                       | 409kB 10.9MB/s eta 0:00:01\r\u001b[K     |████████▊                       | 419kB 10.9MB/s eta 0:00:01\r\u001b[K     |█████████                       | 430kB 10.9MB/s eta 0:00:01\r\u001b[K     |█████████▏                      | 440kB 10.9MB/s eta 0:00:01\r\u001b[K     |█████████▍                      | 450kB 10.9MB/s eta 0:00:01\r\u001b[K     |█████████▋                      | 460kB 10.9MB/s eta 0:00:01\r\u001b[K     |█████████▉                      | 471kB 10.9MB/s eta 0:00:01\r\u001b[K     |██████████                      | 481kB 10.9MB/s eta 0:00:01\r\u001b[K     |██████████▎                     | 491kB 10.9MB/s eta 0:00:01\r\u001b[K     |██████████▌                     | 501kB 10.9MB/s eta 0:00:01\r\u001b[K     |██████████▊                     | 512kB 10.9MB/s eta 0:00:01\r\u001b[K     |███████████                     | 522kB 10.9MB/s eta 0:00:01\r\u001b[K     |███████████▏                    | 532kB 10.9MB/s eta 0:00:01\r\u001b[K     |███████████▍                    | 542kB 10.9MB/s eta 0:00:01\r\u001b[K     |███████████▌                    | 552kB 10.9MB/s eta 0:00:01\r\u001b[K     |███████████▊                    | 563kB 10.9MB/s eta 0:00:01\r\u001b[K     |████████████                    | 573kB 10.9MB/s eta 0:00:01\r\u001b[K     |████████████▏                   | 583kB 10.9MB/s eta 0:00:01\r\u001b[K     |████████████▍                   | 593kB 10.9MB/s eta 0:00:01\r\u001b[K     |████████████▋                   | 604kB 10.9MB/s eta 0:00:01\r\u001b[K     |████████████▉                   | 614kB 10.9MB/s eta 0:00:01\r\u001b[K     |█████████████                   | 624kB 10.9MB/s eta 0:00:01\r\u001b[K     |█████████████▎                  | 634kB 10.9MB/s eta 0:00:01\r\u001b[K     |█████████████▌                  | 645kB 10.9MB/s eta 0:00:01\r\u001b[K     |█████████████▊                  | 655kB 10.9MB/s eta 0:00:01\r\u001b[K     |██████████████                  | 665kB 10.9MB/s eta 0:00:01\r\u001b[K     |██████████████▏                 | 675kB 10.9MB/s eta 0:00:01\r\u001b[K     |██████████████▍                 | 686kB 10.9MB/s eta 0:00:01\r\u001b[K     |██████████████▌                 | 696kB 10.9MB/s eta 0:00:01\r\u001b[K     |██████████████▊                 | 706kB 10.9MB/s eta 0:00:01\r\u001b[K     |███████████████                 | 716kB 10.9MB/s eta 0:00:01\r\u001b[K     |███████████████▏                | 727kB 10.9MB/s eta 0:00:01\r\u001b[K     |███████████████▍                | 737kB 10.9MB/s eta 0:00:01\r\u001b[K     |███████████████▋                | 747kB 10.9MB/s eta 0:00:01\r\u001b[K     |███████████████▉                | 757kB 10.9MB/s eta 0:00:01\r\u001b[K     |████████████████                | 768kB 10.9MB/s eta 0:00:01\r\u001b[K     |████████████████▎               | 778kB 10.9MB/s eta 0:00:01\r\u001b[K     |████████████████▌               | 788kB 10.9MB/s eta 0:00:01\r\u001b[K     |████████████████▊               | 798kB 10.9MB/s eta 0:00:01\r\u001b[K     |█████████████████               | 808kB 10.9MB/s eta 0:00:01\r\u001b[K     |█████████████████▏              | 819kB 10.9MB/s eta 0:00:01\r\u001b[K     |█████████████████▎              | 829kB 10.9MB/s eta 0:00:01\r\u001b[K     |█████████████████▌              | 839kB 10.9MB/s eta 0:00:01\r\u001b[K     |█████████████████▊              | 849kB 10.9MB/s eta 0:00:01\r\u001b[K     |██████████████████              | 860kB 10.9MB/s eta 0:00:01\r\u001b[K     |██████████████████▏             | 870kB 10.9MB/s eta 0:00:01\r\u001b[K     |██████████████████▍             | 880kB 10.9MB/s eta 0:00:01\r\u001b[K     |██████████████████▋             | 890kB 10.9MB/s eta 0:00:01\r\u001b[K     |██████████████████▉             | 901kB 10.9MB/s eta 0:00:01\r\u001b[K     |███████████████████             | 911kB 10.9MB/s eta 0:00:01\r\u001b[K     |███████████████████▎            | 921kB 10.9MB/s eta 0:00:01\r\u001b[K     |███████████████████▌            | 931kB 10.9MB/s eta 0:00:01\r\u001b[K     |███████████████████▊            | 942kB 10.9MB/s eta 0:00:01\r\u001b[K     |████████████████████            | 952kB 10.9MB/s eta 0:00:01\r\u001b[K     |████████████████████▏           | 962kB 10.9MB/s eta 0:00:01\r\u001b[K     |████████████████████▎           | 972kB 10.9MB/s eta 0:00:01\r\u001b[K     |████████████████████▌           | 983kB 10.9MB/s eta 0:00:01\r\u001b[K     |████████████████████▊           | 993kB 10.9MB/s eta 0:00:01\r\u001b[K     |█████████████████████           | 1.0MB 10.9MB/s eta 0:00:01\r\u001b[K     |█████████████████████▏          | 1.0MB 10.9MB/s eta 0:00:01\r\u001b[K     |█████████████████████▍          | 1.0MB 10.9MB/s eta 0:00:01\r\u001b[K     |█████████████████████▋          | 1.0MB 10.9MB/s eta 0:00:01\r\u001b[K     |█████████████████████▉          | 1.0MB 10.9MB/s eta 0:00:01\r\u001b[K     |██████████████████████          | 1.1MB 10.9MB/s eta 0:00:01\r\u001b[K     |██████████████████████▎         | 1.1MB 10.9MB/s eta 0:00:01\r\u001b[K     |██████████████████████▌         | 1.1MB 10.9MB/s eta 0:00:01\r\u001b[K     |██████████████████████▊         | 1.1MB 10.9MB/s eta 0:00:01\r\u001b[K     |███████████████████████         | 1.1MB 10.9MB/s eta 0:00:01\r\u001b[K     |███████████████████████         | 1.1MB 10.9MB/s eta 0:00:01\r\u001b[K     |███████████████████████▎        | 1.1MB 10.9MB/s eta 0:00:01\r\u001b[K     |███████████████████████▌        | 1.1MB 10.9MB/s eta 0:00:01\r\u001b[K     |███████████████████████▊        | 1.1MB 10.9MB/s eta 0:00:01\r\u001b[K     |████████████████████████        | 1.1MB 10.9MB/s eta 0:00:01\r\u001b[K     |████████████████████████▏       | 1.2MB 10.9MB/s eta 0:00:01\r\u001b[K     |████████████████████████▍       | 1.2MB 10.9MB/s eta 0:00:01\r\u001b[K     |████████████████████████▋       | 1.2MB 10.9MB/s eta 0:00:01\r\u001b[K     |████████████████████████▉       | 1.2MB 10.9MB/s eta 0:00:01\r\u001b[K     |█████████████████████████       | 1.2MB 10.9MB/s eta 0:00:01\r\u001b[K     |█████████████████████████▎      | 1.2MB 10.9MB/s eta 0:00:01\r\u001b[K     |█████████████████████████▌      | 1.2MB 10.9MB/s eta 0:00:01\r\u001b[K     |█████████████████████████▊      | 1.2MB 10.9MB/s eta 0:00:01\r\u001b[K     |█████████████████████████▉      | 1.2MB 10.9MB/s eta 0:00:01\r\u001b[K     |██████████████████████████      | 1.2MB 10.9MB/s eta 0:00:01\r\u001b[K     |██████████████████████████▎     | 1.3MB 10.9MB/s eta 0:00:01\r\u001b[K     |██████████████████████████▌     | 1.3MB 10.9MB/s eta 0:00:01\r\u001b[K     |██████████████████████████▊     | 1.3MB 10.9MB/s eta 0:00:01\r\u001b[K     |███████████████████████████     | 1.3MB 10.9MB/s eta 0:00:01\r\u001b[K     |███████████████████████████▏    | 1.3MB 10.9MB/s eta 0:00:01\r\u001b[K     |███████████████████████████▍    | 1.3MB 10.9MB/s eta 0:00:01\r\u001b[K     |███████████████████████████▋    | 1.3MB 10.9MB/s eta 0:00:01\r\u001b[K     |███████████████████████████▉    | 1.3MB 10.9MB/s eta 0:00:01\r\u001b[K     |████████████████████████████    | 1.3MB 10.9MB/s eta 0:00:01\r\u001b[K     |████████████████████████████▎   | 1.4MB 10.9MB/s eta 0:00:01\r\u001b[K     |████████████████████████████▌   | 1.4MB 10.9MB/s eta 0:00:01\r\u001b[K     |████████████████████████████▊   | 1.4MB 10.9MB/s eta 0:00:01\r\u001b[K     |████████████████████████████▉   | 1.4MB 10.9MB/s eta 0:00:01\r\u001b[K     |█████████████████████████████   | 1.4MB 10.9MB/s eta 0:00:01\r\u001b[K     |█████████████████████████████▎  | 1.4MB 10.9MB/s eta 0:00:01\r\u001b[K     |█████████████████████████████▌  | 1.4MB 10.9MB/s eta 0:00:01\r\u001b[K     |█████████████████████████████▊  | 1.4MB 10.9MB/s eta 0:00:01\r\u001b[K     |██████████████████████████████  | 1.4MB 10.9MB/s eta 0:00:01\r\u001b[K     |██████████████████████████████▏ | 1.4MB 10.9MB/s eta 0:00:01\r\u001b[K     |██████████████████████████████▍ | 1.5MB 10.9MB/s eta 0:00:01\r\u001b[K     |██████████████████████████████▋ | 1.5MB 10.9MB/s eta 0:00:01\r\u001b[K     |██████████████████████████████▉ | 1.5MB 10.9MB/s eta 0:00:01\r\u001b[K     |███████████████████████████████ | 1.5MB 10.9MB/s eta 0:00:01\r\u001b[K     |███████████████████████████████▎| 1.5MB 10.9MB/s eta 0:00:01\r\u001b[K     |███████████████████████████████▌| 1.5MB 10.9MB/s eta 0:00:01\r\u001b[K     |███████████████████████████████▋| 1.5MB 10.9MB/s eta 0:00:01\r\u001b[K     |███████████████████████████████▉| 1.5MB 10.9MB/s eta 0:00:01\r\u001b[K     |████████████████████████████████| 1.5MB 10.9MB/s \n",
            "\u001b[?25hRequirement already satisfied: numpy in /usr/local/lib/python3.6/dist-packages (from mahotas) (1.18.2)\n",
            "Building wheels for collected packages: mahotas\n",
            "  Building wheel for mahotas (setup.py) ... \u001b[?25l\u001b[?25hdone\n",
            "  Created wheel for mahotas: filename=mahotas-1.4.9-cp36-cp36m-linux_x86_64.whl size=4265650 sha256=a552e08c7ddab0888b617f4131a2a5fca2fb3f0093d17f760d9c416b058ae5bc\n",
            "  Stored in directory: /root/.cache/pip/wheels/02/e7/50/b67eee3b19c479cc5b41f10230bf9c1556be6eaaf095c6e997\n",
            "Successfully built mahotas\n",
            "Installing collected packages: mahotas\n",
            "Successfully installed mahotas-1.4.9\n"
          ],
          "name": "stdout"
        }
      ]
    },
    {
      "cell_type": "code",
      "metadata": {
        "id": "avlgJG0Tz-Su",
        "colab_type": "code",
        "outputId": "9f28625b-2b0f-4d5a-90cd-c4306be6d9b0",
        "colab": {
          "base_uri": "https://localhost:8080/",
          "height": 139
        }
      },
      "source": [
        "!git clone https://github.com/ucfilho/marquesgabi_fev_2020 #clonar do Github\n",
        "%cd marquesgabi_fev_2020\n",
        "import Go2BlackWhite\n",
        "import Go2Mahotas\n"
      ],
      "execution_count": 2,
      "outputs": [
        {
          "output_type": "stream",
          "text": [
            "Cloning into 'marquesgabi_fev_2020'...\n",
            "remote: Enumerating objects: 73, done.\u001b[K\n",
            "remote: Counting objects:   1% (1/73)\u001b[K\rremote: Counting objects:   2% (2/73)\u001b[K\rremote: Counting objects:   4% (3/73)\u001b[K\rremote: Counting objects:   5% (4/73)\u001b[K\rremote: Counting objects:   6% (5/73)\u001b[K\rremote: Counting objects:   8% (6/73)\u001b[K\rremote: Counting objects:   9% (7/73)\u001b[K\rremote: Counting objects:  10% (8/73)\u001b[K\rremote: Counting objects:  12% (9/73)\u001b[K\rremote: Counting objects:  13% (10/73)\u001b[K\rremote: Counting objects:  15% (11/73)\u001b[K\rremote: Counting objects:  16% (12/73)\u001b[K\rremote: Counting objects:  17% (13/73)\u001b[K\rremote: Counting objects:  19% (14/73)\u001b[K\rremote: Counting objects:  20% (15/73)\u001b[K\rremote: Counting objects:  21% (16/73)\u001b[K\rremote: Counting objects:  23% (17/73)\u001b[K\rremote: Counting objects:  24% (18/73)\u001b[K\rremote: Counting objects:  26% (19/73)\u001b[K\rremote: Counting objects:  27% (20/73)\u001b[K\rremote: Counting objects:  28% (21/73)\u001b[K\rremote: Counting objects:  30% (22/73)\u001b[K\rremote: Counting objects:  31% (23/73)\u001b[K\rremote: Counting objects:  32% (24/73)\u001b[K\rremote: Counting objects:  34% (25/73)\u001b[K\rremote: Counting objects:  35% (26/73)\u001b[K\rremote: Counting objects:  36% (27/73)\u001b[K\rremote: Counting objects:  38% (28/73)\u001b[K\rremote: Counting objects:  39% (29/73)\u001b[K\rremote: Counting objects:  41% (30/73)\u001b[K\rremote: Counting objects:  42% (31/73)\u001b[K\rremote: Counting objects:  43% (32/73)\u001b[K\rremote: Counting objects:  45% (33/73)\u001b[K\rremote: Counting objects:  46% (34/73)\u001b[K\rremote: Counting objects:  47% (35/73)\u001b[K\rremote: Counting objects:  49% (36/73)\u001b[K\rremote: Counting objects:  50% (37/73)\u001b[K\rremote: Counting objects:  52% (38/73)\u001b[K\rremote: Counting objects:  53% (39/73)\u001b[K\rremote: Counting objects:  54% (40/73)\u001b[K\rremote: Counting objects:  56% (41/73)\u001b[K\rremote: Counting objects:  57% (42/73)\u001b[K\rremote: Counting objects:  58% (43/73)\u001b[K\rremote: Counting objects:  60% (44/73)\u001b[K\rremote: Counting objects:  61% (45/73)\u001b[K\rremote: Counting objects:  63% (46/73)\u001b[K\rremote: Counting objects:  64% (47/73)\u001b[K\rremote: Counting objects:  65% (48/73)\u001b[K\rremote: Counting objects:  67% (49/73)\u001b[K\rremote: Counting objects:  68% (50/73)\u001b[K\rremote: Counting objects:  69% (51/73)\u001b[K\rremote: Counting objects:  71% (52/73)\u001b[K\rremote: Counting objects:  72% (53/73)\u001b[K\rremote: Counting objects:  73% (54/73)\u001b[K\rremote: Counting objects:  75% (55/73)\u001b[K\rremote: Counting objects:  76% (56/73)\u001b[K\rremote: Counting objects:  78% (57/73)\u001b[K\rremote: Counting objects:  79% (58/73)\u001b[K\rremote: Counting objects:  80% (59/73)\u001b[K\rremote: Counting objects:  82% (60/73)\u001b[K\rremote: Counting objects:  83% (61/73)\u001b[K\rremote: Counting objects:  84% (62/73)\u001b[K\rremote: Counting objects:  86% (63/73)\u001b[K\rremote: Counting objects:  87% (64/73)\u001b[K\rremote: Counting objects:  89% (65/73)\u001b[K\rremote: Counting objects:  90% (66/73)\u001b[K\rremote: Counting objects:  91% (67/73)\u001b[K\rremote: Counting objects:  93% (68/73)\u001b[K\rremote: Counting objects:  94% (69/73)\u001b[K\rremote: Counting objects:  95% (70/73)\u001b[K\rremote: Counting objects:  97% (71/73)\u001b[K\rremote: Counting objects:  98% (72/73)\u001b[K\rremote: Counting objects: 100% (73/73)\u001b[K\rremote: Counting objects: 100% (73/73), done.\u001b[K\n",
            "remote: Compressing objects: 100% (71/71), done.\u001b[K\n",
            "remote: Total 73 (delta 37), reused 0 (delta 0), pack-reused 0\u001b[K\n",
            "Unpacking objects: 100% (73/73), done.\n",
            "/content/marquesgabi_fev_2020\n"
          ],
          "name": "stdout"
        }
      ]
    },
    {
      "cell_type": "code",
      "metadata": {
        "id": "W0wfLMP8nWAM",
        "colab_type": "code",
        "colab": {}
      },
      "source": [
        "#farei para 720 fotos (metade 2= Grao) e (metade nao grao=1)"
      ],
      "execution_count": 0,
      "outputs": []
    },
    {
      "cell_type": "code",
      "metadata": {
        "id": "nI-R9-mcybyd",
        "colab_type": "code",
        "outputId": "904062d0-8193-47bb-93e5-451e5be027ad",
        "colab": {
          "base_uri": "https://localhost:8080/",
          "height": 156
        }
      },
      "source": [
        "\n",
        "!git clone https://github.com/marquesgabi/Doutorado\n",
        "%cd Doutorado"
      ],
      "execution_count": 4,
      "outputs": [
        {
          "output_type": "stream",
          "text": [
            "Cloning into 'Doutorado'...\n",
            "remote: Enumerating objects: 76, done.\u001b[K\n",
            "remote: Counting objects: 100% (76/76), done.\u001b[K\n",
            "remote: Compressing objects: 100% (76/76), done.\u001b[K\n",
            "remote: Total 223 (delta 33), reused 0 (delta 0), pack-reused 147\u001b[K\n",
            "Receiving objects: 100% (223/223), 87.41 MiB | 5.98 MiB/s, done.\n",
            "Resolving deltas: 100% (102/102), done.\n",
            "/content/marquesgabi_fev_2020/Doutorado\n"
          ],
          "name": "stdout"
        }
      ]
    },
    {
      "cell_type": "code",
      "metadata": {
        "id": "SzWdrvAgvBId",
        "colab_type": "code",
        "colab": {}
      },
      "source": [
        "import numpy as np\n",
        "import cv2\n",
        "from skimage import data\n",
        "import matplotlib.pyplot as plt\n",
        "import matplotlib\n",
        "import pandas as pd\n",
        "from skimage import io, util\n",
        "import mahotas.features.texture as mht\n",
        "import mahotas.features\n",
        "import os \n",
        "import zipfile\n",
        "from skimage import filters\n",
        "from skimage import exposure\n",
        "import skimage.feature as sk\n",
        "from google.colab import files\n",
        "from numpy import linalg as LA\n",
        "from scipy.signal import find_peaks\n",
        "from scipy.signal import peak_prominences\n",
        "from scipy.signal import peak_widths\n",
        "from scipy.integrate import simps\n",
        "import re\n",
        "import Go2BlackWhite\n",
        "%matplotlib inline"
      ],
      "execution_count": 0,
      "outputs": []
    },
    {
      "cell_type": "code",
      "metadata": {
        "id": "xoW1HoWp3qNO",
        "colab_type": "code",
        "colab": {}
      },
      "source": [
        "Size=20 # tamanho da foto\n",
        "Sub_Size=int(Size/5) # tamanho do fracionamento\n",
        "Row_Crop=1/2 # posicao do corte\n",
        "Crop=int(Size*Row_Crop)\n",
        "Propriedade='contrast' # escolher uma propriedade para o cálcul0 dos picos e outras informações"
      ],
      "execution_count": 0,
      "outputs": []
    },
    {
      "cell_type": "code",
      "metadata": {
        "id": "h1Zsufcm9bfv",
        "colab_type": "code",
        "colab": {}
      },
      "source": [
        "Transfere='Fotos9Amostras720.zip'\n",
        "file_name = zipfile.ZipFile(Transfere, 'r')\n",
        "file_name.extractall()"
      ],
      "execution_count": 0,
      "outputs": []
    },
    {
      "cell_type": "code",
      "metadata": {
        "id": "9ZQOQdJVjkW1",
        "colab_type": "code",
        "colab": {}
      },
      "source": [
        "Prop=Propriedade"
      ],
      "execution_count": 0,
      "outputs": []
    },
    {
      "cell_type": "code",
      "metadata": {
        "id": "MDDexaSZiaJA",
        "colab_type": "code",
        "outputId": "e5367a63-9f89-412c-ce15-2438c3324bc6",
        "colab": {
          "base_uri": "https://localhost:8080/",
          "height": 265
        }
      },
      "source": [
        "ww,img_name=Go2BlackWhite.BlackWhite(Transfere,Size)\n",
        "plt.axis(\"off\")\n",
        "plt.imshow(ww[10], cmap = \"gray\")"
      ],
      "execution_count": 9,
      "outputs": [
        {
          "output_type": "execute_result",
          "data": {
            "text/plain": [
              "<matplotlib.image.AxesImage at 0x7fbec1a83e10>"
            ]
          },
          "metadata": {
            "tags": []
          },
          "execution_count": 9
        },
        {
          "output_type": "display_data",
          "data": {
            "image/png": "[encoded data removed]",
            "text/plain": [
              "<Figure size 432x288 with 1 Axes>"
            ]
          },
          "metadata": {
            "tags": []
          }
        }
      ]
    },
    {
      "cell_type": "code",
      "metadata": {
        "id": "VHWVP_N8ebP6",
        "colab_type": "code",
        "outputId": "f7725079-bbba-464e-c8e1-8b41d302d524",
        "colab": {
          "base_uri": "https://localhost:8080/",
          "height": 55
        }
      },
      "source": [
        "Num,Row,Col=np.asarray(ww).shape\n",
        "Idx=[]\n",
        "New_Colunm=[]\n",
        "\n",
        "for i in range(Num):\n",
        "  Media=np.mean(ww[i])\n",
        "  k=np.where(ww[i].ravel() > Media)\n",
        "  Idx.append(np.asarray(k).ravel())\n",
        "\n",
        "Quant=Size*Size\n",
        "for i in Idx:\n",
        "  #print(i)\n",
        "  New_Colunm.append(len(i)/Quant)\n",
        "print(New_Colunm)"
      ],
      "execution_count": 10,
      "outputs": [
        {
          "output_type": "stream",
          "text": [
            "[0.4125, 0.41, 0.4225, 0.53, 0.49, 0.38, 0.405, 0.4125, 0.41, 0.53, 0.5775, 0.4675, 0.4675, 0.5, 0.51, 0.53, 0.4775, 0.5275, 0.4825, 0.495, 0.5525, 0.48, 0.5275, 0.4325, 0.4575, 0.5475, 0.56, 0.535, 0.5, 0.51, 0.525, 0.44, 0.435, 0.5125, 0.565, 0.5075, 0.485, 0.4825, 0.3775, 0.5275, 0.5475, 0.5325, 0.4275, 0.41, 0.5175, 0.5225, 0.44, 0.4375, 0.395, 0.535, 0.555, 0.4825, 0.4325, 0.4625, 0.4525, 0.495, 0.4925, 0.3625, 0.375, 0.355, 0.4075, 0.405, 0.465, 0.4575, 0.4725, 0.4825, 0.4375, 0.585, 0.57, 0.4425, 0.4025, 0.45, 0.4625, 0.615, 0.5575, 0.5325, 0.4675, 0.45, 0.4525, 0.4625, 0.525, 0.4625, 0.525, 0.455, 0.4775, 0.3875, 0.4175, 0.33, 0.33, 0.3675, 0.41, 0.5, 0.53, 0.4875, 0.47, 0.54, 0.5625, 0.41, 0.5125, 0.405, 0.6125, 0.5575, 0.5075, 0.4025, 0.4875, 0.4975, 0.5575, 0.4825, 0.4575, 0.43, 0.45, 0.41, 0.435, 0.505, 0.5325, 0.46, 0.39, 0.485, 0.39, 0.58, 0.5, 0.6275, 0.49, 0.5425, 0.4325, 0.4625, 0.6575, 0.5325, 0.4125, 0.4475, 0.48, 0.4725, 0.39, 0.435, 0.3625, 0.3675, 0.4825, 0.475, 0.515, 0.4975, 0.5325, 0.39, 0.5175, 0.48, 0.5625, 0.4675, 0.44, 0.54, 0.465, 0.4975, 0.5, 0.46, 0.63, 0.4325, 0.505, 0.4425, 0.4425, 0.485, 0.5, 0.5125, 0.5575, 0.54, 0.46, 0.48, 0.4475, 0.455, 0.3275, 0.4325, 0.4025, 0.4575, 0.5575, 0.4875, 0.43, 0.5625, 0.4475, 0.4625, 0.395, 0.515, 0.4925, 0.4725, 0.5125, 0.4425, 0.495, 0.48, 0.4625, 0.485, 0.39, 0.5225, 0.475, 0.5625, 0.5175, 0.48, 0.48, 0.5525, 0.3875, 0.4575, 0.3975, 0.3575, 0.4975, 0.4, 0.4575, 0.475, 0.5075, 0.4475, 0.4625, 0.4775, 0.5025, 0.4575, 0.535, 0.5325, 0.4675, 0.4825, 0.47, 0.44, 0.4675, 0.4925, 0.575, 0.4575, 0.43, 0.4275, 0.465, 0.515, 0.5475, 0.54, 0.4675, 0.3825, 0.4725, 0.505, 0.51, 0.5475, 0.495, 0.445, 0.46, 0.5425, 0.5975, 0.46, 0.52, 0.545, 0.495, 0.5325, 0.535, 0.4125, 0.5775, 0.4175, 0.3875, 0.4425, 0.505, 0.4475, 0.43, 0.4175, 0.4475, 0.505, 0.51, 0.5025, 0.4725, 0.465, 0.6425, 0.4275, 0.3775, 0.4475, 0.4525, 0.4825, 0.5025, 0.475, 0.345, 0.3925, 0.4925, 0.4875, 0.43, 0.355, 0.4475, 0.5525, 0.485, 0.3825, 0.455, 0.4275, 0.5125, 0.47, 0.48, 0.3925, 0.41, 0.49, 0.56, 0.4225, 0.425, 0.405, 0.3525, 0.4675, 0.525, 0.5375, 0.485, 0.5925, 0.5175, 0.3375, 0.3225, 0.4025, 0.555, 0.4525, 0.36, 0.4425, 0.6425, 0.515, 0.6, 0.5075, 0.5325, 0.465, 0.5275, 0.49, 0.6075, 0.405, 0.4125, 0.4775, 0.45, 0.435, 0.5, 0.4275, 0.43, 0.3825, 0.295, 0.5075, 0.4675, 0.4625, 0.485, 0.465, 0.4525, 0.505, 0.4475, 0.525, 0.4675, 0.52, 0.495, 0.405, 0.4975, 0.52, 0.4975, 0.5225, 0.54, 0.4675, 0.3975, 0.4175, 0.565, 0.4575, 0.425, 0.3975, 0.5125, 0.5, 0.4, 0.3475, 0.385, 0.45, 0.5225, 0.5, 0.4775, 0.4925, 0.515, 0.495, 0.49, 0.5525, 0.46, 0.445, 0.5825, 0.61, 0.625, 0.56, 0.5075, 0.3675, 0.485, 0.3825, 0.4975, 0.5175, 0.3125, 0.33, 0.485, 0.39, 0.365, 0.43, 0.46, 0.5275, 0.5675, 0.47, 0.3225, 0.52, 0.545, 0.3375, 0.39, 0.5325, 0.5075, 0.5425, 0.53, 0.45, 0.6175, 0.5025, 0.4825, 0.6225, 0.4525, 0.5125, 0.46, 0.5, 0.5775, 0.5225, 0.4825, 0.6025, 0.53, 0.6025, 0.44, 0.4575, 0.3675, 0.4875, 0.395, 0.4825, 0.6125, 0.48, 0.515, 0.5325, 0.4825, 0.3875, 0.5475, 0.4875, 0.5425, 0.5, 0.515, 0.6175, 0.55, 0.63, 0.5375, 0.6425, 0.6075, 0.5625, 0.54, 0.55, 0.3675, 0.3875, 0.445, 0.495, 0.465, 0.425, 0.4975, 0.525, 0.4025, 0.34, 0.505, 0.52, 0.5975, 0.545, 0.5375, 0.4925, 0.545, 0.595, 0.615, 0.5925, 0.5625, 0.6575, 0.67, 0.555, 0.5375, 0.585, 0.5725, 0.62, 0.48, 0.585, 0.4575, 0.37, 0.575, 0.3925, 0.4575, 0.355, 0.34, 0.3125, 0.37, 0.4875, 0.545, 0.715, 0.49, 0.5, 0.5375, 0.535, 0.635, 0.5975, 0.525, 0.5175, 0.5025, 0.5925, 0.57, 0.5775, 0.6525, 0.5775, 0.6425, 0.6375, 0.56, 0.6275, 0.4875, 0.4875, 0.5375, 0.5375, 0.455, 0.5725, 0.405, 0.5375, 0.53, 0.3925, 0.5125, 0.5175, 0.405, 0.4575, 0.5, 0.4425, 0.55, 0.6175, 0.525, 0.5475, 0.6175, 0.6125, 0.6375, 0.63, 0.4775, 0.495, 0.62, 0.5, 0.6075, 0.6, 0.36, 0.5, 0.57, 0.505, 0.5225, 0.4875, 0.4475, 0.57, 0.535, 0.385, 0.565, 0.495, 0.5075, 0.4625, 0.5775, 0.53, 0.44, 0.5225, 0.5325, 0.51, 0.5425, 0.5425, 0.535, 0.53, 0.5, 0.4225, 0.4275, 0.525, 0.5025, 0.44, 0.555, 0.3825, 0.525, 0.435, 0.555, 0.485, 0.5075, 0.5125, 0.5625, 0.485, 0.57, 0.375, 0.465, 0.575, 0.5375, 0.455, 0.4725, 0.485, 0.5325, 0.4675, 0.5925, 0.475, 0.5225, 0.5825, 0.5, 0.59, 0.49, 0.6375, 0.4975, 0.455, 0.515, 0.5275, 0.495, 0.6525, 0.4125, 0.71, 0.4925, 0.4325, 0.5275, 0.5275, 0.5075, 0.5875, 0.55, 0.505, 0.5125, 0.56, 0.4375, 0.3425, 0.405, 0.475, 0.4625, 0.485, 0.44, 0.5375, 0.4225, 0.5325, 0.48, 0.5325, 0.5375, 0.4525, 0.42, 0.4475, 0.48, 0.485, 0.535, 0.645, 0.54, 0.3875, 0.43, 0.4, 0.5225, 0.53, 0.4675, 0.4875, 0.5125, 0.55, 0.525, 0.4775, 0.495, 0.4875, 0.6075, 0.59, 0.6075, 0.5875, 0.5475, 0.4725, 0.4625, 0.5475, 0.5425, 0.545, 0.59, 0.44, 0.475, 0.4725, 0.49, 0.575, 0.5925, 0.59, 0.625, 0.6575, 0.655, 0.6375, 0.6025, 0.61, 0.445, 0.4875, 0.57, 0.6375, 0.5675, 0.6825, 0.435, 0.4925, 0.6175, 0.6025, 0.5025, 0.5925, 0.615, 0.5925, 0.6225, 0.595, 0.67, 0.6, 0.505, 0.6175, 0.6625, 0.51, 0.59, 0.6025, 0.6125, 0.635, 0.5775, 0.485, 0.5225, 0.655, 0.685, 0.59, 0.5725, 0.4775, 0.4, 0.5525, 0.5625, 0.545, 0.595, 0.715, 0.675, 0.4925, 0.6225, 0.5875, 0.68, 0.5675, 0.5975, 0.52, 0.52, 0.4225, 0.52, 0.4675, 0.5725, 0.5225, 0.4025, 0.4325, 0.53, 0.485, 0.5975, 0.605, 0.685, 0.4625, 0.5825, 0.625, 0.485, 0.5575]\n"
          ],
          "name": "stdout"
        }
      ]
    },
    {
      "cell_type": "code",
      "metadata": {
        "id": "GrLtSCRor_By",
        "colab_type": "code",
        "outputId": "10652ffb-cd98-4d69-97c6-cb5bda52e873",
        "colab": {
          "base_uri": "https://localhost:8080/",
          "height": 35
        }
      },
      "source": [
        "print(len(img_name))"
      ],
      "execution_count": 11,
      "outputs": [
        {
          "output_type": "stream",
          "text": [
            "720\n"
          ],
          "name": "stdout"
        }
      ]
    },
    {
      "cell_type": "code",
      "metadata": {
        "colab_type": "code",
        "id": "qCKcPafHsAuJ",
        "colab": {}
      },
      "source": [
        "# ww contain all photos in black and white\n",
        "ww,img_name=Go2BlackWhite.BlackWhite(Transfere,Size)"
      ],
      "execution_count": 0,
      "outputs": []
    },
    {
      "cell_type": "code",
      "metadata": {
        "id": "hDdj1998k-7s",
        "colab_type": "code",
        "outputId": "832d4d3d-b8a3-41a0-efd6-fd5e561e92e7",
        "colab": {
          "base_uri": "https://localhost:8080/",
          "height": 265
        }
      },
      "source": [
        "plt.axis(\"off\")\n",
        "plt.imshow(ww[539], cmap = \"gray\")"
      ],
      "execution_count": 13,
      "outputs": [
        {
          "output_type": "execute_result",
          "data": {
            "text/plain": [
              "<matplotlib.image.AxesImage at 0x7fbec1a83940>"
            ]
          },
          "metadata": {
            "tags": []
          },
          "execution_count": 13
        },
        {
          "output_type": "display_data",
          "data": {
            "image/png": "[encoded data removed]",
            "text/plain": [
              "<Figure size 432x288 with 1 Axes>"
            ]
          },
          "metadata": {
            "tags": []
          }
        }
      ]
    },
    {
      "cell_type": "code",
      "metadata": {
        "id": "iSe01o8dBTdM",
        "colab_type": "code",
        "outputId": "f622d179-bca3-44b9-d588-658e6175a789",
        "colab": {
          "base_uri": "https://localhost:8080/",
          "height": 55
        }
      },
      "source": [
        "print(img_name)"
      ],
      "execution_count": 14,
      "outputs": [
        {
          "output_type": "stream",
          "text": [
            "['Q6-2-1-B1.jpg', 'Q6-2-1-B2.jpg', 'Q6-2-1-B3.jpg', 'Q6-2-1-B5.jpg', 'Q6-2-1-B6.jpg', 'Q6-2-1-B7.jpg', 'Q6-2-1-B8.jpg', 'Q6-2-1-B9.jpg', 'Q6-2-1-B10.jpg', 'Q6-2-1-G1.jpg', 'Q6-2-1-G2.jpg', 'Q6-2-1-G3.jpg', 'Q6-2-1-G4.jpg', 'Q6-2-1-G5.jpg', 'Q6-2-1-G6.jpg', 'Q6-2-1-G7.jpg', 'Q6-2-1-G9.jpg', 'Q6-2-1-G10.jpg', 'Q6-2-1-B4.jpg', 'Q6-2-1-I1.jpg', 'Q6-2-1-I2.jpg', 'Q6-2-1-I3.jpg', 'Q6-2-1-I4.jpg', 'Q6-2-1-I5.jpg', 'Q6-2-1-I6.jpg', 'Q6-2-1-I7.jpg', 'Q6-2-1-I8.jpg', 'Q6-2-1-I9.jpg', 'Q6-2-1-I10.jpg', 'Q6-2-2-B1.jpg', 'Q6-2-2-B2.jpg', 'Q6-2-2-B3.jpg', 'Q6-2-2-B4.jpg', 'Q6-2-2-B5.jpg', 'Q6-2-2-B7.jpg', 'Q6-2-2-B8.jpg', 'Q6-2-2-B9.jpg', 'Q6-2-2-B10.jpg', 'Q6-2-2-G1.jpg', 'Q6-2-2-G2.jpg', 'Q6-2-2-G3.jpg', 'Q6-2-2-G4.jpg', 'Q6-2-2-G6.jpg', 'Q6-2-2-G7.jpg', 'Q6-2-2-G8.jpg', 'Q6-2-2-G9.jpg', 'Q6-2-2-G10.jpg', 'Q6-2-2-I1.jpg', 'Q6-2-2-I2.jpg', 'Q6-2-2-I3.jpg', 'Q6-2-2-I4.jpg', 'Q6-2-2-I5.jpg', 'Q6-2-2-I6.jpg', 'Q6-2-2-I7.jpg', 'Q6-2-2-I8.jpg', 'Q6-2-2-I9.jpg', 'Q6-2-2-I10.jpg', 'Q6-3-1-B1.jpg', 'Q6-3-1-B2.jpg', 'Q6-3-1-B3.jpg', 'Q6-3-1-B4.jpg', 'Q6-3-1-B5.jpg', 'Q6-3-1-B6.jpg', 'Q6-3-1-B7.jpg', 'Q6-3-1-B8.jpg', 'Q6-3-1-B9.jpg', 'Q6-3-1-B10.jpg', 'Q6-3-1-G1.jpg', 'Q6-3-1-G3.jpg', 'Q6-3-1-G5.jpg', 'Q6-3-1-G6.jpg', 'Q6-3-1-G7.jpg', 'Q6-3-1-G8.jpg', 'Q6-3-1-G9.jpg', 'Q6-3-1-G10.jpg', 'Q6-3-1-G2.jpg', 'Q6-3-1-I1.jpg', 'Q6-3-1-I3.jpg', 'Q6-3-1-I4.jpg', 'Q6-3-1-I5.jpg', 'Q6-3-1-I6.jpg', 'Q6-3-1-I7.jpg', 'Q6-3-1-I8.jpg', 'Q6-3-1-I9.jpg', 'Q6-3-1-G4.jpg', 'Q6-3-1-I10.jpg', 'Q6-3-1-I2.jpg', 'Q6-3-2-B1.jpg', 'Q6-3-2-B3.jpg', 'Q6-3-2-B4.jpg', 'Q6-3-2-B5.jpg', 'Q6-3-2-B6.jpg', 'Q6-3-2-B7.jpg', 'Q6-3-2-B8.jpg', 'Q6-3-2-B9.jpg', 'Q6-3-2-B10.jpg', 'Q6-3-2-B2.jpg', 'Q6-3-2-G1.jpg', 'Q6-3-2-G2.jpg', 'Q6-3-2-G5.jpg', 'Q6-3-2-G6.jpg', 'Q6-3-2-G7.jpg', 'Q6-3-2-G8.jpg', 'Q6-3-2-G9.jpg', 'Q6-3-2-G10.jpg', 'Q6-3-2-G3.jpg', 'Q6-3-2-G4.jpg', 'Q6-3-2-I1.jpg', 'Q6-3-2-I2.jpg', 'Q6-3-2-I3.jpg', 'Q6-3-2-I5.jpg', 'Q6-3-2-I6.jpg', 'Q6-3-2-I7.jpg', 'Q6-3-2-I8.jpg', 'Q6-3-2-I9.jpg', 'Q6-3-2-I10.jpg', 'Q6-3-2-I4.jpg', 'Q6-2-1-G8.jpg', 'Q6-2-2-B6.jpg', 'Q6-2-2-G5.jpg', 'Q6-1-4-G1.jpg', 'Q6-1-4-G2.jpg', 'Q6-1-4-G3.jpg', 'Q6-1-4-G4.jpg', 'Q6-1-4-G5.jpg', 'Q6-1-4-G6.jpg', 'Q6-1-4-G8.jpg', 'Q6-1-4-G9.jpg', 'Q6-1-4-G10.jpg', 'Q6-1-4-G7.jpg', 'Q6-1-4-B1.jpg', 'Q6-1-4-B2.jpg', 'Q6-1-4-B3.jpg', 'Q6-1-4-B4.jpg', 'Q6-1-4-B5.jpg', 'Q6-1-4-B6.jpg', 'Q6-1-4-B7.jpg', 'Q6-1-4-B8.jpg', 'Q6-1-4-B9.jpg', 'Q6-1-4-B10.jpg', 'Q6-1-4-I1.jpg', 'Q6-1-4-I2.jpg', 'Q6-1-4-I3.jpg', 'Q6-1-4-I4.jpg', 'Q6-1-4-I5.jpg', 'Q6-1-4-I6.jpg', 'Q6-1-4-I7.jpg', 'Q6-1-4-I8.jpg', 'Q6-1-4-I9.jpg', 'Q6-1-4-I10.jpg', 'Q6-1-5-G1.jpg', 'Q6-1-5-G2.jpg', 'Q6-1-5-G3.jpg', 'Q6-1-5-G4.jpg', 'Q6-1-5-G5.jpg', 'Q6-1-5-G6.jpg', 'Q6-1-5-G7.jpg', 'Q6-1-5-G8.jpg', 'Q6-1-5-G9.jpg', 'Q6-1-5-G10.jpg', 'Q6-1-5-B1.jpg', 'Q6-1-5-B2.jpg', 'Q6-1-5-B3.jpg', 'Q6-1-5-B4.jpg', 'Q6-1-5-B5.jpg', 'Q6-1-5-B6.jpg', 'Q6-1-5-B7.jpg', 'Q6-1-5-B8.jpg', 'Q6-1-5-B9.jpg', 'Q6-1-5-B10.jpg', 'Q6-1-5-I1.jpg', 'Q6-1-5-I2.jpg', 'Q6-1-5-I3.jpg', 'Q6-1-5-I4.jpg', 'Q6-1-5-I5.jpg', 'Q6-1-5-I6.jpg', 'Q6-1-5-I7.jpg', 'Q6-1-5-I8.jpg', 'Q6-1-5-I9.jpg', 'Q6-1-5-I10.jpg', 'Q6-4-1-G1.jpg', 'Q6-4-1-G3.jpg', 'Q6-4-1-G4.jpg', 'Q6-4-1-G6.jpg', 'Q6-4-1-G8.jpg', 'Q6-4-1-G9.jpg', 'Q6-4-1-G10.jpg', 'Q6-4-1-G2.jpg', 'Q6-4-1-G7.jpg', 'Q6-4-1-G5.jpg', 'Q6-4-1-B1.jpg', 'Q6-4-1-B2.jpg', 'Q6-4-1-B3.jpg', 'Q6-4-1-B4.jpg', 'Q6-4-1-B5.jpg', 'Q6-4-1-B6.jpg', 'Q6-4-1-B7.jpg', 'Q6-4-1-B8.jpg', 'Q6-4-1-B9.jpg', 'Q6-4-1-B10.jpg', 'Q6-4-1-I3.jpg', 'Q6-4-1-I4.jpg', 'Q6-4-1-I5.jpg', 'Q6-4-1-I6.jpg', 'Q6-4-1-I7.jpg', 'Q6-4-1-I8.jpg', 'Q6-4-1-I9.jpg', 'Q6-4-1-I10.jpg', 'Q6-4-1-I2.jpg', 'Q6-4-1-I1.jpg', 'Q6-4-3-G1.jpg', 'Q6-4-3-G2.jpg', 'Q6-4-3-G3.jpg', 'Q6-4-3-G4.jpg', 'Q6-4-3-G5.jpg', 'Q6-4-3-G8.jpg', 'Q6-4-3-G6.jpg', 'Q6-4-3-G9.jpg', 'Q6-4-3-G10.jpg', 'Q6-4-3-G7.jpg', 'Q6-4-3-B1.jpg', 'Q6-4-3-B2.jpg', 'Q6-4-3-B3.jpg', 'Q6-4-3-B4.jpg', 'Q6-4-3-B5.jpg', 'Q6-4-3-B6.jpg', 'Q6-4-3-B7.jpg', 'Q6-4-3-B8.jpg', 'Q6-4-3-B9.jpg', 'Q6-4-3-B10.jpg', 'Q6-4-3-I2.jpg', 'Q6-4-3-I3.jpg', 'Q6-4-3-I4.jpg', 'Q6-4-3-I6.jpg', 'Q6-4-3-I7.jpg', 'Q6-4-3-I9.jpg', 'Q6-4-3-I10.jpg', 'Q6-4-3-I5.jpg', 'Q6-4-3-I8.jpg', 'Q6-4-3-I1.jpg', 'Q6-5-2-G1.jpg', 'Q6-5-2-G2.jpg', 'Q6-5-2-G3.jpg', 'Q6-5-2-G4.jpg', 'Q6-5-2-G5.jpg', 'Q6-5-2-G6.jpg', 'Q6-5-2-G7.jpg', 'Q6-5-2-G8.jpg', 'Q6-5-2-G9.jpg', 'Q6-5-2-G10.jpg', 'Q6-5-2-B1.jpg', 'Q6-5-2-B2.jpg', 'Q6-5-2-B3.jpg', 'Q6-5-2-B4.jpg', 'Q6-5-2-B5.jpg', 'Q6-5-2-B6.jpg', 'Q6-5-2-B7.jpg', 'Q6-5-2-B8.jpg', 'Q6-5-2-B9.jpg', 'Q6-5-2-B10.jpg', 'Q6-5-2-I1.jpg', 'Q6-5-2-I2.jpg', 'Q6-5-2-I3.jpg', 'Q6-5-2-I4.jpg', 'Q6-5-2-I5.jpg', 'Q6-5-2-I6.jpg', 'Q6-5-2-I7.jpg', 'Q6-5-2-I8.jpg', 'Q6-5-2-I9.jpg', 'Q6-5-2-I10.jpg', 'Q6-5-4-G1.jpg', 'Q6-5-4-G2.jpg', 'Q6-5-4-G3.jpg', 'Q6-5-4-G4.jpg', 'Q6-5-4-G5.jpg', 'Q6-5-4-G6.jpg', 'Q6-5-4-G7.jpg', 'Q6-5-4-G8.jpg', 'Q6-5-4-G9.jpg', 'Q6-5-4-G10.jpg', 'Q6-5-4-B1.jpg', 'Q6-5-4-B2.jpg', 'Q6-5-4-B3.jpg', 'Q6-5-4-B4.jpg', 'Q6-5-4-B5.jpg', 'Q6-5-4-B6.jpg', 'Q6-5-4-B7.jpg', 'Q6-5-4-B8.jpg', 'Q6-5-4-B9.jpg', 'Q6-5-4-B10.jpg', 'Q6-5-4-I1.jpg', 'Q6-5-4-I2.jpg', 'Q6-5-4-I3.jpg', 'Q6-5-4-I4.jpg', 'Q6-5-4-I5.jpg', 'Q6-5-4-I6.jpg', 'Q6-5-4-I7.jpg', 'Q6-5-4-I8.jpg', 'Q6-5-4-I9.jpg', 'Q6-5-4-I10.jpg', 'Q6-6-2-G1.jpg', 'Q6-6-2-G2.jpg', 'Q6-6-2-G3.jpg', 'Q6-6-2-G4.jpg', 'Q6-6-2-G5.jpg', 'Q6-6-2-G6.jpg', 'Q6-6-2-G7.jpg', 'Q6-6-2-G8.jpg', 'Q6-6-2-G9.jpg', 'Q6-6-2-G10.jpg', 'Q6-6-2-B1.jpg', 'Q6-6-2-B2.jpg', 'Q6-6-2-B3.jpg', 'Q6-6-2-B4.jpg', 'Q6-6-2-B5.jpg', 'Q6-6-2-B6.jpg', 'Q6-6-2-B7.jpg', 'Q6-6-2-B8.jpg', 'Q6-6-2-B9.jpg', 'Q6-6-2-B10.jpg', 'Q6-6-2-I1.jpg', 'Q6-6-2-I2.jpg', 'Q6-6-2-I3.jpg', 'Q6-6-2-I4.jpg', 'Q6-6-2-I5.jpg', 'Q6-6-2-I6.jpg', 'Q6-6-2-I7.jpg', 'Q6-6-2-I8.jpg', 'Q6-6-2-I9.jpg', 'Q6-6-2-I10.jpg', 'Q6-6-3-G1.jpg', 'Q6-6-3-G2.jpg', 'Q6-6-3-G3.jpg', 'Q6-6-3-G4.jpg', 'Q6-6-3-G5.jpg', 'Q6-6-3-G6.jpg', 'Q6-6-3-G7.jpg', 'Q6-6-3-G8.jpg', 'Q6-6-3-G9.jpg', 'Q6-6-3-G10.jpg', 'Q6-6-3-B1.jpg', 'Q6-6-3-B2.jpg', 'Q6-6-3-B3.jpg', 'Q6-6-3-B4.jpg', 'Q6-6-3-B5.jpg', 'Q6-6-3-B6.jpg', 'Q6-6-3-B7.jpg', 'Q6-6-3-B8.jpg', 'Q6-6-3-B9.jpg', 'Q6-6-3-B10.jpg', 'Q6-6-3-I1.jpg', 'Q6-6-3-I2.jpg', 'Q6-6-3-I3.jpg', 'Q6-6-3-I4.jpg', 'Q6-6-3-I5.jpg', 'Q6-6-3-I6.jpg', 'Q6-6-3-I7.jpg', 'Q6-6-3-I8.jpg', 'Q6-6-3-I9.jpg', 'Q6-6-3-I10.jpg', 'Q6-7-3-G1.jpg', 'Q6-7-3-G2.jpg', 'Q6-7-3-G3.jpg', 'Q6-7-3-G4.jpg', 'Q6-7-3-G5.jpg', 'Q6-7-3-G6.jpg', 'Q6-7-3-G7.jpg', 'Q6-7-3-G8.jpg', 'Q6-7-3-G9.jpg', 'Q6-7-3-G10.jpg', 'Q6-7-3-B1.jpg', 'Q6-7-3-B2.jpg', 'Q6-7-3-B3.jpg', 'Q6-7-3-B4.jpg', 'Q6-7-3-B5.jpg', 'Q6-7-3-B6.jpg', 'Q6-7-3-B7.jpg', 'Q6-7-3-B8.jpg', 'Q6-7-3-B9.jpg', 'Q6-7-3-B10.jpg', 'Q6-7-3-I1.jpg', 'Q6-7-3-I2.jpg', 'Q6-7-3-I3.jpg', 'Q6-7-3-I4.jpg', 'Q6-7-3-I5.jpg', 'Q6-7-3-I6.jpg', 'Q6-7-3-I7.jpg', 'Q6-7-3-I8.jpg', 'Q6-7-3-I9.jpg', 'Q6-7-3-I10.jpg', 'Q6-7-4-G1.jpg', 'Q6-7-4-G2.jpg', 'Q6-7-4-G3.jpg', 'Q6-7-4-G4.jpg', 'Q6-7-4-G5.jpg', 'Q6-7-4-G6.jpg', 'Q6-7-4-G7.jpg', 'Q6-7-4-G8.jpg', 'Q6-7-4-G9.jpg', 'Q6-7-4-G10.jpg', 'Q6-7-4-B1.jpg', 'Q6-7-4-B2.jpg', 'Q6-7-4-B3.jpg', 'Q6-7-4-B4.jpg', 'Q6-7-4-B5.jpg', 'Q6-7-4-B6.jpg', 'Q6-7-4-B7.jpg', 'Q6-7-4-B8.jpg', 'Q6-7-4-B9.jpg', 'Q6-7-4-B10.jpg', 'Q6-7-4-I1.jpg', 'Q6-7-4-I2.jpg', 'Q6-7-4-I3.jpg', 'Q6-7-4-I4.jpg', 'Q6-7-4-I5.jpg', 'Q6-7-4-I6.jpg', 'Q6-7-4-I7.jpg', 'Q6-7-4-I8.jpg', 'Q6-7-4-I9.jpg', 'Q6-7-4-I10.jpg', 'Q6-8-2-G1.jpg', 'Q6-8-2-G2.jpg', 'Q6-8-2-G3.jpg', 'Q6-8-2-G4.jpg', 'Q6-8-2-G5.jpg', 'Q6-8-2-G6.jpg', 'Q6-8-2-G7.jpg', 'Q6-8-2-G8.jpg', 'Q6-8-2-G9.jpg', 'Q6-8-2-G10.jpg', 'Q6-8-2-B1.jpg', 'Q6-8-2-B2.jpg', 'Q6-8-2-B3.jpg', 'Q6-8-2-B4.jpg', 'Q6-8-2-B5.jpg', 'Q6-8-2-B6.jpg', 'Q6-8-2-B7.jpg', 'Q6-8-2-B8.jpg', 'Q6-8-2-B9.jpg', 'Q6-8-2-B10.jpg', 'Q6-8-2-I1.jpg', 'Q6-8-2-I2.jpg', 'Q6-8-2-I3.jpg', 'Q6-8-2-I4.jpg', 'Q6-8-2-I5.jpg', 'Q6-8-2-I6.jpg', 'Q6-8-2-I7.jpg', 'Q6-8-2-I8.jpg', 'Q6-8-2-I9.jpg', 'Q6-8-2-I10.jpg', 'Q6-8-3-G1.jpg', 'Q6-8-3-G2.jpg', 'Q6-8-3-G3.jpg', 'Q6-8-3-G4.jpg', 'Q6-8-3-G5.jpg', 'Q6-8-3-G6.jpg', 'Q6-8-3-G7.jpg', 'Q6-8-3-G8.jpg', 'Q6-8-3-G9.jpg', 'Q6-8-3-G10.jpg', 'Q6-8-3-B1.jpg', 'Q6-8-3-B2.jpg', 'Q6-8-3-B3.jpg', 'Q6-8-3-B4.jpg', 'Q6-8-3-B5.jpg', 'Q6-8-3-B6.jpg', 'Q6-8-3-B7.jpg', 'Q6-8-3-B8.jpg', 'Q6-8-3-B9.jpg', 'Q6-8-3-B10.jpg', 'Q6-8-3-I1.jpg', 'Q6-8-3-I2.jpg', 'Q6-8-3-I3.jpg', 'Q6-8-3-I4.jpg', 'Q6-8-3-I5.jpg', 'Q6-8-3-I6.jpg', 'Q6-8-3-I7.jpg', 'Q6-8-3-I8.jpg', 'Q6-8-3-I9.jpg', 'Q6-8-3-I10.jpg', 'Q6-9-3-G1.jpg', 'Q6-9-3-G2.jpg', 'Q6-9-3-G3.jpg', 'Q6-9-3-G4.jpg', 'Q6-9-3-G5.jpg', 'Q6-9-3-G6.jpg', 'Q6-9-3-G7.jpg', 'Q6-9-3-G8.jpg', 'Q6-9-3-G9.jpg', 'Q6-9-3-G10.jpg', 'Q6-9-3-B1.jpg', 'Q6-9-3-B2.jpg', 'Q6-9-3-B3.jpg', 'Q6-9-3-B4.jpg', 'Q6-9-3-B5.jpg', 'Q6-9-3-B6.jpg', 'Q6-9-3-B7.jpg', 'Q6-9-3-B8.jpg', 'Q6-9-3-B9.jpg', 'Q6-9-3-B10.jpg', 'Q6-9-3-I1.jpg', 'Q6-9-3-I2.jpg', 'Q6-9-3-I3.jpg', 'Q6-9-3-I4.jpg', 'Q6-9-3-I5.jpg', 'Q6-9-3-I6.jpg', 'Q6-9-3-I7.jpg', 'Q6-9-3-I8.jpg', 'Q6-9-3-I9.jpg', 'Q6-9-3-I10.jpg', 'Q6-9-5-G1.jpg', 'Q6-9-5-G2.jpg', 'Q6-9-5-G3.jpg', 'Q6-9-5-G4.jpg', 'Q6-9-5-G5.jpg', 'Q6-9-5-G6.jpg', 'Q6-9-5-G7.jpg', 'Q6-9-5-G8.jpg', 'Q6-9-5-G9.jpg', 'Q6-9-5-G10.jpg', 'Q6-9-5-B1.jpg', 'Q6-9-5-B2.jpg', 'Q6-9-5-B3.jpg', 'Q6-9-5-B4.jpg', 'Q6-9-5-B5.jpg', 'Q6-9-5-B6.jpg', 'Q6-9-5-B7.jpg', 'Q6-9-5-B8.jpg', 'Q6-9-5-B9.jpg', 'Q6-9-5-B10.jpg', 'Q6-9-5-I1.jpg', 'Q6-9-5-I2.jpg', 'Q6-9-5-I3.jpg', 'Q6-9-5-I4.jpg', 'Q6-9-5-I5.jpg', 'Q6-9-5-I6.jpg', 'Q6-9-5-I7.jpg', 'Q6-9-5-I9.jpg', 'Q6-9-5-I10.jpg', 'Q6-9-5-I8.jpg', 'Q6-1-2-G1.jpg', 'Q6-1-2-G2.jpg', 'Q6-1-2-G3.jpg', 'Q6-1-2-G4.jpg', 'Q6-1-2-G5.jpg', 'Q6-1-2-G6.jpg', 'Q6-1-2-G7.jpg', 'Q6-1-2-G8.jpg', 'Q6-1-2-G9.jpg', 'Q6-1-2-G10.jpg', 'Q6-1-2-G11.jpg', 'Q6-1-2-G12.jpg', 'Q6-1-2-G13.jpg', 'Q6-1-2-G14.jpg', 'Q6-1-2-G15.jpg', 'Q6-1-2-G16.jpg', 'Q6-1-2-G17.jpg', 'Q6-1-2-G18.jpg', 'Q6-2-5-G1.jpg', 'Q6-2-5-G2.jpg', 'Q6-2-5-G3.jpg', 'Q6-2-5-G4.jpg', 'Q6-2-5-G5.jpg', 'Q6-2-5-G6.jpg', 'Q6-2-5-G7.jpg', 'Q6-2-5-G8.jpg', 'Q6-2-5-G9.jpg', 'Q6-2-5-G10.jpg', 'Q6-2-5-G11.jpg', 'Q6-2-5-G12.jpg', 'Q6-2-5-G13.jpg', 'Q6-2-5-G14.jpg', 'Q6-2-5-G15.jpg', 'Q6-2-5-G16.jpg', 'Q6-2-5-G17.jpg', 'Q6-2-5-G18.jpg', 'Q6-3-4-G1.jpg', 'Q6-3-4-G2.jpg', 'Q6-3-4-G3.jpg', 'Q6-3-4-G4.jpg', 'Q6-3-4-G5.jpg', 'Q6-3-4-G6.jpg', 'Q6-3-4-G7.jpg', 'Q6-3-4-G8.jpg', 'Q6-3-4-G9.jpg', 'Q6-3-4-G10.jpg', 'Q6-3-4-G11.jpg', 'Q6-3-4-G12.jpg', 'Q6-3-4-G13.jpg', 'Q6-3-4-G14.jpg', 'Q6-3-4-G15.jpg', 'Q6-3-4-G16.jpg', 'Q6-3-4-G17.jpg', 'Q6-3-4-G18.jpg', 'Q6-4-4-G1.jpg', 'Q6-4-4-G2.jpg', 'Q6-4-4-G3.jpg', 'Q6-4-4-G4.jpg', 'Q6-4-4-G5.jpg', 'Q6-4-4-G6.jpg', 'Q6-4-4-G7.jpg', 'Q6-4-4-G8.jpg', 'Q6-4-4-G9.jpg', 'Q6-4-4-G10.jpg', 'Q6-4-4-G11.jpg', 'Q6-4-4-G12.jpg', 'Q6-4-4-G13.jpg', 'Q6-4-4-G14.jpg', 'Q6-4-4-G15.jpg', 'Q6-4-4-G16.jpg', 'Q6-4-4-G17.jpg', 'Q6-4-4-G18.jpg', 'Q6-5-3-G1.jpg', 'Q6-5-3-G2.jpg', 'Q6-5-3-G3.jpg', 'Q6-5-3-G4.jpg', 'Q6-5-3-G5.jpg', 'Q6-5-3-G6.jpg', 'Q6-5-3-G7.jpg', 'Q6-5-3-G8.jpg', 'Q6-5-3-G9.jpg', 'Q6-5-3-G10.jpg', 'Q6-5-3-G11.jpg', 'Q6-5-3-G12.jpg', 'Q6-5-3-G13.jpg', 'Q6-5-3-G14.jpg', 'Q6-5-3-G15.jpg', 'Q6-5-3-G16.jpg', 'Q6-5-3-G17.jpg', 'Q6-5-3-G18.jpg', 'Q6-6-5-G1.jpg', 'Q6-6-5-G2.jpg', 'Q6-6-5-G3.jpg', 'Q6-6-5-G4.jpg', 'Q6-6-5-G5.jpg', 'Q6-6-5-G6.jpg', 'Q6-6-5-G7.jpg', 'Q6-6-5-G8.jpg', 'Q6-6-5-G9.jpg', 'Q6-6-5-G10.jpg', 'Q6-6-5-G11.jpg', 'Q6-6-5-G12.jpg', 'Q6-6-5-G13.jpg', 'Q6-6-5-G14.jpg', 'Q6-6-5-G15.jpg', 'Q6-6-5-G16.jpg', 'Q6-6-5-G17.jpg', 'Q6-6-5-G18.jpg', 'Q6-7-2-G1.jpg', 'Q6-7-2-G2.jpg', 'Q6-7-2-G3.jpg', 'Q6-7-2-G4.jpg', 'Q6-7-2-G5.jpg', 'Q6-7-2-G6.jpg', 'Q6-7-2-G7.jpg', 'Q6-7-2-G8.jpg', 'Q6-7-2-G9.jpg', 'Q6-7-2-G10.jpg', 'Q6-7-2-G11.jpg', 'Q6-7-2-G12.jpg', 'Q6-7-2-G13.jpg', 'Q6-7-2-G14.jpg', 'Q6-7-2-G15.jpg', 'Q6-7-2-G16.jpg', 'Q6-7-2-G17.jpg', 'Q6-7-2-G18.jpg', 'Q6-8-4-G1.jpg', 'Q6-8-4-G2.jpg', 'Q6-8-4-G3.jpg', 'Q6-8-4-G4.jpg', 'Q6-8-4-G5.jpg', 'Q6-8-4-G6.jpg', 'Q6-8-4-G7.jpg', 'Q6-8-4-G8.jpg', 'Q6-8-4-G9.jpg', 'Q6-8-4-G10.jpg', 'Q6-8-4-G11.jpg', 'Q6-8-4-G12.jpg', 'Q6-8-4-G13.jpg', 'Q6-8-4-G14.jpg', 'Q6-8-4-G15.jpg', 'Q6-8-4-G16.jpg', 'Q6-8-4-G17.jpg', 'Q6-8-4-G18.jpg', 'Q6-9-2-G1.jpg', 'Q6-9-2-G2.jpg', 'Q6-9-2-G3.jpg', 'Q6-9-2-G4.jpg', 'Q6-9-2-G5.jpg', 'Q6-9-2-G6.jpg', 'Q6-9-2-G7.jpg', 'Q6-9-2-G8.jpg', 'Q6-9-2-G9.jpg', 'Q6-9-2-G10.jpg', 'Q6-9-2-G11.jpg', 'Q6-9-2-G12.jpg', 'Q6-9-2-G13.jpg', 'Q6-9-2-G14.jpg', 'Q6-9-2-G15.jpg', 'Q6-9-2-G16.jpg', 'Q6-9-2-G17.jpg', 'Q6-9-2-G18.jpg', 'Q6-1-2-G19.jpg', 'Q6-1-2-G20.jpg', 'Q6-2-5-G19.jpg', 'Q6-2-5-G20.jpg', 'Q6-3-4-G19.jpg', 'Q6-3-4-G20.jpg', 'Q6-4-4-G19.jpg', 'Q6-4-4-G20.jpg', 'Q6-5-3-G19.jpg', 'Q6-5-3-G20.jpg', 'Q6-6-5-G19.jpg', 'Q6-6-5-G20.jpg', 'Q6-7-2-G19.jpg', 'Q6-7-2-G20.jpg', 'Q6-8-4-G19.jpg', 'Q6-8-4-G20.jpg', 'Q6-9-2-G19.jpg', 'Q6-9-2-G20.jpg']\n"
          ],
          "name": "stdout"
        }
      ]
    },
    {
      "cell_type": "code",
      "metadata": {
        "id": "MukX2r3ys3tm",
        "colab_type": "code",
        "colab": {}
      },
      "source": [
        "# Find the list elements starting with specific letter\n",
        "subs = 'B'\n",
        "Buraco = [x for x in img_name if re.search(subs, x)] \n",
        "subs = 'G'\n",
        "Grao = [x for x in img_name if re.search(subs, x)] \n",
        "subs = 'I'\n",
        "Indef = [x for x in img_name if re.search(subs, x)] "
      ],
      "execution_count": 0,
      "outputs": []
    },
    {
      "cell_type": "code",
      "metadata": {
        "id": "PWD4B_LtBALu",
        "colab_type": "code",
        "outputId": "f05470f4-f9e5-4515-e4ea-cbe79de8058e",
        "colab": {
          "base_uri": "https://localhost:8080/",
          "height": 89
        }
      },
      "source": [
        "print(Buraco)\n",
        "print(Grao)\n",
        "print(Indef)"
      ],
      "execution_count": 16,
      "outputs": [
        {
          "output_type": "stream",
          "text": [
            "['Q6-2-1-B1.jpg', 'Q6-2-1-B2.jpg', 'Q6-2-1-B3.jpg', 'Q6-2-1-B5.jpg', 'Q6-2-1-B6.jpg', 'Q6-2-1-B7.jpg', 'Q6-2-1-B8.jpg', 'Q6-2-1-B9.jpg', 'Q6-2-1-B10.jpg', 'Q6-2-1-B4.jpg', 'Q6-2-2-B1.jpg', 'Q6-2-2-B2.jpg', 'Q6-2-2-B3.jpg', 'Q6-2-2-B4.jpg', 'Q6-2-2-B5.jpg', 'Q6-2-2-B7.jpg', 'Q6-2-2-B8.jpg', 'Q6-2-2-B9.jpg', 'Q6-2-2-B10.jpg', 'Q6-3-1-B1.jpg', 'Q6-3-1-B2.jpg', 'Q6-3-1-B3.jpg', 'Q6-3-1-B4.jpg', 'Q6-3-1-B5.jpg', 'Q6-3-1-B6.jpg', 'Q6-3-1-B7.jpg', 'Q6-3-1-B8.jpg', 'Q6-3-1-B9.jpg', 'Q6-3-1-B10.jpg', 'Q6-3-2-B1.jpg', 'Q6-3-2-B3.jpg', 'Q6-3-2-B4.jpg', 'Q6-3-2-B5.jpg', 'Q6-3-2-B6.jpg', 'Q6-3-2-B7.jpg', 'Q6-3-2-B8.jpg', 'Q6-3-2-B9.jpg', 'Q6-3-2-B10.jpg', 'Q6-3-2-B2.jpg', 'Q6-2-2-B6.jpg', 'Q6-1-4-B1.jpg', 'Q6-1-4-B2.jpg', 'Q6-1-4-B3.jpg', 'Q6-1-4-B4.jpg', 'Q6-1-4-B5.jpg', 'Q6-1-4-B6.jpg', 'Q6-1-4-B7.jpg', 'Q6-1-4-B8.jpg', 'Q6-1-4-B9.jpg', 'Q6-1-4-B10.jpg', 'Q6-1-5-B1.jpg', 'Q6-1-5-B2.jpg', 'Q6-1-5-B3.jpg', 'Q6-1-5-B4.jpg', 'Q6-1-5-B5.jpg', 'Q6-1-5-B6.jpg', 'Q6-1-5-B7.jpg', 'Q6-1-5-B8.jpg', 'Q6-1-5-B9.jpg', 'Q6-1-5-B10.jpg', 'Q6-4-1-B1.jpg', 'Q6-4-1-B2.jpg', 'Q6-4-1-B3.jpg', 'Q6-4-1-B4.jpg', 'Q6-4-1-B5.jpg', 'Q6-4-1-B6.jpg', 'Q6-4-1-B7.jpg', 'Q6-4-1-B8.jpg', 'Q6-4-1-B9.jpg', 'Q6-4-1-B10.jpg', 'Q6-4-3-B1.jpg', 'Q6-4-3-B2.jpg', 'Q6-4-3-B3.jpg', 'Q6-4-3-B4.jpg', 'Q6-4-3-B5.jpg', 'Q6-4-3-B6.jpg', 'Q6-4-3-B7.jpg', 'Q6-4-3-B8.jpg', 'Q6-4-3-B9.jpg', 'Q6-4-3-B10.jpg', 'Q6-5-2-B1.jpg', 'Q6-5-2-B2.jpg', 'Q6-5-2-B3.jpg', 'Q6-5-2-B4.jpg', 'Q6-5-2-B5.jpg', 'Q6-5-2-B6.jpg', 'Q6-5-2-B7.jpg', 'Q6-5-2-B8.jpg', 'Q6-5-2-B9.jpg', 'Q6-5-2-B10.jpg', 'Q6-5-4-B1.jpg', 'Q6-5-4-B2.jpg', 'Q6-5-4-B3.jpg', 'Q6-5-4-B4.jpg', 'Q6-5-4-B5.jpg', 'Q6-5-4-B6.jpg', 'Q6-5-4-B7.jpg', 'Q6-5-4-B8.jpg', 'Q6-5-4-B9.jpg', 'Q6-5-4-B10.jpg', 'Q6-6-2-B1.jpg', 'Q6-6-2-B2.jpg', 'Q6-6-2-B3.jpg', 'Q6-6-2-B4.jpg', 'Q6-6-2-B5.jpg', 'Q6-6-2-B6.jpg', 'Q6-6-2-B7.jpg', 'Q6-6-2-B8.jpg', 'Q6-6-2-B9.jpg', 'Q6-6-2-B10.jpg', 'Q6-6-3-B1.jpg', 'Q6-6-3-B2.jpg', 'Q6-6-3-B3.jpg', 'Q6-6-3-B4.jpg', 'Q6-6-3-B5.jpg', 'Q6-6-3-B6.jpg', 'Q6-6-3-B7.jpg', 'Q6-6-3-B8.jpg', 'Q6-6-3-B9.jpg', 'Q6-6-3-B10.jpg', 'Q6-7-3-B1.jpg', 'Q6-7-3-B2.jpg', 'Q6-7-3-B3.jpg', 'Q6-7-3-B4.jpg', 'Q6-7-3-B5.jpg', 'Q6-7-3-B6.jpg', 'Q6-7-3-B7.jpg', 'Q6-7-3-B8.jpg', 'Q6-7-3-B9.jpg', 'Q6-7-3-B10.jpg', 'Q6-7-4-B1.jpg', 'Q6-7-4-B2.jpg', 'Q6-7-4-B3.jpg', 'Q6-7-4-B4.jpg', 'Q6-7-4-B5.jpg', 'Q6-7-4-B6.jpg', 'Q6-7-4-B7.jpg', 'Q6-7-4-B8.jpg', 'Q6-7-4-B9.jpg', 'Q6-7-4-B10.jpg', 'Q6-8-2-B1.jpg', 'Q6-8-2-B2.jpg', 'Q6-8-2-B3.jpg', 'Q6-8-2-B4.jpg', 'Q6-8-2-B5.jpg', 'Q6-8-2-B6.jpg', 'Q6-8-2-B7.jpg', 'Q6-8-2-B8.jpg', 'Q6-8-2-B9.jpg', 'Q6-8-2-B10.jpg', 'Q6-8-3-B1.jpg', 'Q6-8-3-B2.jpg', 'Q6-8-3-B3.jpg', 'Q6-8-3-B4.jpg', 'Q6-8-3-B5.jpg', 'Q6-8-3-B6.jpg', 'Q6-8-3-B7.jpg', 'Q6-8-3-B8.jpg', 'Q6-8-3-B9.jpg', 'Q6-8-3-B10.jpg', 'Q6-9-3-B1.jpg', 'Q6-9-3-B2.jpg', 'Q6-9-3-B3.jpg', 'Q6-9-3-B4.jpg', 'Q6-9-3-B5.jpg', 'Q6-9-3-B6.jpg', 'Q6-9-3-B7.jpg', 'Q6-9-3-B8.jpg', 'Q6-9-3-B9.jpg', 'Q6-9-3-B10.jpg', 'Q6-9-5-B1.jpg', 'Q6-9-5-B2.jpg', 'Q6-9-5-B3.jpg', 'Q6-9-5-B4.jpg', 'Q6-9-5-B5.jpg', 'Q6-9-5-B6.jpg', 'Q6-9-5-B7.jpg', 'Q6-9-5-B8.jpg', 'Q6-9-5-B9.jpg', 'Q6-9-5-B10.jpg']\n",
            "['Q6-2-1-G1.jpg', 'Q6-2-1-G2.jpg', 'Q6-2-1-G3.jpg', 'Q6-2-1-G4.jpg', 'Q6-2-1-G5.jpg', 'Q6-2-1-G6.jpg', 'Q6-2-1-G7.jpg', 'Q6-2-1-G9.jpg', 'Q6-2-1-G10.jpg', 'Q6-2-2-G1.jpg', 'Q6-2-2-G2.jpg', 'Q6-2-2-G3.jpg', 'Q6-2-2-G4.jpg', 'Q6-2-2-G6.jpg', 'Q6-2-2-G7.jpg', 'Q6-2-2-G8.jpg', 'Q6-2-2-G9.jpg', 'Q6-2-2-G10.jpg', 'Q6-3-1-G1.jpg', 'Q6-3-1-G3.jpg', 'Q6-3-1-G5.jpg', 'Q6-3-1-G6.jpg', 'Q6-3-1-G7.jpg', 'Q6-3-1-G8.jpg', 'Q6-3-1-G9.jpg', 'Q6-3-1-G10.jpg', 'Q6-3-1-G2.jpg', 'Q6-3-1-G4.jpg', 'Q6-3-2-G1.jpg', 'Q6-3-2-G2.jpg', 'Q6-3-2-G5.jpg', 'Q6-3-2-G6.jpg', 'Q6-3-2-G7.jpg', 'Q6-3-2-G8.jpg', 'Q6-3-2-G9.jpg', 'Q6-3-2-G10.jpg', 'Q6-3-2-G3.jpg', 'Q6-3-2-G4.jpg', 'Q6-2-1-G8.jpg', 'Q6-2-2-G5.jpg', 'Q6-1-4-G1.jpg', 'Q6-1-4-G2.jpg', 'Q6-1-4-G3.jpg', 'Q6-1-4-G4.jpg', 'Q6-1-4-G5.jpg', 'Q6-1-4-G6.jpg', 'Q6-1-4-G8.jpg', 'Q6-1-4-G9.jpg', 'Q6-1-4-G10.jpg', 'Q6-1-4-G7.jpg', 'Q6-1-5-G1.jpg', 'Q6-1-5-G2.jpg', 'Q6-1-5-G3.jpg', 'Q6-1-5-G4.jpg', 'Q6-1-5-G5.jpg', 'Q6-1-5-G6.jpg', 'Q6-1-5-G7.jpg', 'Q6-1-5-G8.jpg', 'Q6-1-5-G9.jpg', 'Q6-1-5-G10.jpg', 'Q6-4-1-G1.jpg', 'Q6-4-1-G3.jpg', 'Q6-4-1-G4.jpg', 'Q6-4-1-G6.jpg', 'Q6-4-1-G8.jpg', 'Q6-4-1-G9.jpg', 'Q6-4-1-G10.jpg', 'Q6-4-1-G2.jpg', 'Q6-4-1-G7.jpg', 'Q6-4-1-G5.jpg', 'Q6-4-3-G1.jpg', 'Q6-4-3-G2.jpg', 'Q6-4-3-G3.jpg', 'Q6-4-3-G4.jpg', 'Q6-4-3-G5.jpg', 'Q6-4-3-G8.jpg', 'Q6-4-3-G6.jpg', 'Q6-4-3-G9.jpg', 'Q6-4-3-G10.jpg', 'Q6-4-3-G7.jpg', 'Q6-5-2-G1.jpg', 'Q6-5-2-G2.jpg', 'Q6-5-2-G3.jpg', 'Q6-5-2-G4.jpg', 'Q6-5-2-G5.jpg', 'Q6-5-2-G6.jpg', 'Q6-5-2-G7.jpg', 'Q6-5-2-G8.jpg', 'Q6-5-2-G9.jpg', 'Q6-5-2-G10.jpg', 'Q6-5-4-G1.jpg', 'Q6-5-4-G2.jpg', 'Q6-5-4-G3.jpg', 'Q6-5-4-G4.jpg', 'Q6-5-4-G5.jpg', 'Q6-5-4-G6.jpg', 'Q6-5-4-G7.jpg', 'Q6-5-4-G8.jpg', 'Q6-5-4-G9.jpg', 'Q6-5-4-G10.jpg', 'Q6-6-2-G1.jpg', 'Q6-6-2-G2.jpg', 'Q6-6-2-G3.jpg', 'Q6-6-2-G4.jpg', 'Q6-6-2-G5.jpg', 'Q6-6-2-G6.jpg', 'Q6-6-2-G7.jpg', 'Q6-6-2-G8.jpg', 'Q6-6-2-G9.jpg', 'Q6-6-2-G10.jpg', 'Q6-6-3-G1.jpg', 'Q6-6-3-G2.jpg', 'Q6-6-3-G3.jpg', 'Q6-6-3-G4.jpg', 'Q6-6-3-G5.jpg', 'Q6-6-3-G6.jpg', 'Q6-6-3-G7.jpg', 'Q6-6-3-G8.jpg', 'Q6-6-3-G9.jpg', 'Q6-6-3-G10.jpg', 'Q6-7-3-G1.jpg', 'Q6-7-3-G2.jpg', 'Q6-7-3-G3.jpg', 'Q6-7-3-G4.jpg', 'Q6-7-3-G5.jpg', 'Q6-7-3-G6.jpg', 'Q6-7-3-G7.jpg', 'Q6-7-3-G8.jpg', 'Q6-7-3-G9.jpg', 'Q6-7-3-G10.jpg', 'Q6-7-4-G1.jpg', 'Q6-7-4-G2.jpg', 'Q6-7-4-G3.jpg', 'Q6-7-4-G4.jpg', 'Q6-7-4-G5.jpg', 'Q6-7-4-G6.jpg', 'Q6-7-4-G7.jpg', 'Q6-7-4-G8.jpg', 'Q6-7-4-G9.jpg', 'Q6-7-4-G10.jpg', 'Q6-8-2-G1.jpg', 'Q6-8-2-G2.jpg', 'Q6-8-2-G3.jpg', 'Q6-8-2-G4.jpg', 'Q6-8-2-G5.jpg', 'Q6-8-2-G6.jpg', 'Q6-8-2-G7.jpg', 'Q6-8-2-G8.jpg', 'Q6-8-2-G9.jpg', 'Q6-8-2-G10.jpg', 'Q6-8-3-G1.jpg', 'Q6-8-3-G2.jpg', 'Q6-8-3-G3.jpg', 'Q6-8-3-G4.jpg', 'Q6-8-3-G5.jpg', 'Q6-8-3-G6.jpg', 'Q6-8-3-G7.jpg', 'Q6-8-3-G8.jpg', 'Q6-8-3-G9.jpg', 'Q6-8-3-G10.jpg', 'Q6-9-3-G1.jpg', 'Q6-9-3-G2.jpg', 'Q6-9-3-G3.jpg', 'Q6-9-3-G4.jpg', 'Q6-9-3-G5.jpg', 'Q6-9-3-G6.jpg', 'Q6-9-3-G7.jpg', 'Q6-9-3-G8.jpg', 'Q6-9-3-G9.jpg', 'Q6-9-3-G10.jpg', 'Q6-9-5-G1.jpg', 'Q6-9-5-G2.jpg', 'Q6-9-5-G3.jpg', 'Q6-9-5-G4.jpg', 'Q6-9-5-G5.jpg', 'Q6-9-5-G6.jpg', 'Q6-9-5-G7.jpg', 'Q6-9-5-G8.jpg', 'Q6-9-5-G9.jpg', 'Q6-9-5-G10.jpg', 'Q6-1-2-G1.jpg', 'Q6-1-2-G2.jpg', 'Q6-1-2-G3.jpg', 'Q6-1-2-G4.jpg', 'Q6-1-2-G5.jpg', 'Q6-1-2-G6.jpg', 'Q6-1-2-G7.jpg', 'Q6-1-2-G8.jpg', 'Q6-1-2-G9.jpg', 'Q6-1-2-G10.jpg', 'Q6-1-2-G11.jpg', 'Q6-1-2-G12.jpg', 'Q6-1-2-G13.jpg', 'Q6-1-2-G14.jpg', 'Q6-1-2-G15.jpg', 'Q6-1-2-G16.jpg', 'Q6-1-2-G17.jpg', 'Q6-1-2-G18.jpg', 'Q6-2-5-G1.jpg', 'Q6-2-5-G2.jpg', 'Q6-2-5-G3.jpg', 'Q6-2-5-G4.jpg', 'Q6-2-5-G5.jpg', 'Q6-2-5-G6.jpg', 'Q6-2-5-G7.jpg', 'Q6-2-5-G8.jpg', 'Q6-2-5-G9.jpg', 'Q6-2-5-G10.jpg', 'Q6-2-5-G11.jpg', 'Q6-2-5-G12.jpg', 'Q6-2-5-G13.jpg', 'Q6-2-5-G14.jpg', 'Q6-2-5-G15.jpg', 'Q6-2-5-G16.jpg', 'Q6-2-5-G17.jpg', 'Q6-2-5-G18.jpg', 'Q6-3-4-G1.jpg', 'Q6-3-4-G2.jpg', 'Q6-3-4-G3.jpg', 'Q6-3-4-G4.jpg', 'Q6-3-4-G5.jpg', 'Q6-3-4-G6.jpg', 'Q6-3-4-G7.jpg', 'Q6-3-4-G8.jpg', 'Q6-3-4-G9.jpg', 'Q6-3-4-G10.jpg', 'Q6-3-4-G11.jpg', 'Q6-3-4-G12.jpg', 'Q6-3-4-G13.jpg', 'Q6-3-4-G14.jpg', 'Q6-3-4-G15.jpg', 'Q6-3-4-G16.jpg', 'Q6-3-4-G17.jpg', 'Q6-3-4-G18.jpg', 'Q6-4-4-G1.jpg', 'Q6-4-4-G2.jpg', 'Q6-4-4-G3.jpg', 'Q6-4-4-G4.jpg', 'Q6-4-4-G5.jpg', 'Q6-4-4-G6.jpg', 'Q6-4-4-G7.jpg', 'Q6-4-4-G8.jpg', 'Q6-4-4-G9.jpg', 'Q6-4-4-G10.jpg', 'Q6-4-4-G11.jpg', 'Q6-4-4-G12.jpg', 'Q6-4-4-G13.jpg', 'Q6-4-4-G14.jpg', 'Q6-4-4-G15.jpg', 'Q6-4-4-G16.jpg', 'Q6-4-4-G17.jpg', 'Q6-4-4-G18.jpg', 'Q6-5-3-G1.jpg', 'Q6-5-3-G2.jpg', 'Q6-5-3-G3.jpg', 'Q6-5-3-G4.jpg', 'Q6-5-3-G5.jpg', 'Q6-5-3-G6.jpg', 'Q6-5-3-G7.jpg', 'Q6-5-3-G8.jpg', 'Q6-5-3-G9.jpg', 'Q6-5-3-G10.jpg', 'Q6-5-3-G11.jpg', 'Q6-5-3-G12.jpg', 'Q6-5-3-G13.jpg', 'Q6-5-3-G14.jpg', 'Q6-5-3-G15.jpg', 'Q6-5-3-G16.jpg', 'Q6-5-3-G17.jpg', 'Q6-5-3-G18.jpg', 'Q6-6-5-G1.jpg', 'Q6-6-5-G2.jpg', 'Q6-6-5-G3.jpg', 'Q6-6-5-G4.jpg', 'Q6-6-5-G5.jpg', 'Q6-6-5-G6.jpg', 'Q6-6-5-G7.jpg', 'Q6-6-5-G8.jpg', 'Q6-6-5-G9.jpg', 'Q6-6-5-G10.jpg', 'Q6-6-5-G11.jpg', 'Q6-6-5-G12.jpg', 'Q6-6-5-G13.jpg', 'Q6-6-5-G14.jpg', 'Q6-6-5-G15.jpg', 'Q6-6-5-G16.jpg', 'Q6-6-5-G17.jpg', 'Q6-6-5-G18.jpg', 'Q6-7-2-G1.jpg', 'Q6-7-2-G2.jpg', 'Q6-7-2-G3.jpg', 'Q6-7-2-G4.jpg', 'Q6-7-2-G5.jpg', 'Q6-7-2-G6.jpg', 'Q6-7-2-G7.jpg', 'Q6-7-2-G8.jpg', 'Q6-7-2-G9.jpg', 'Q6-7-2-G10.jpg', 'Q6-7-2-G11.jpg', 'Q6-7-2-G12.jpg', 'Q6-7-2-G13.jpg', 'Q6-7-2-G14.jpg', 'Q6-7-2-G15.jpg', 'Q6-7-2-G16.jpg', 'Q6-7-2-G17.jpg', 'Q6-7-2-G18.jpg', 'Q6-8-4-G1.jpg', 'Q6-8-4-G2.jpg', 'Q6-8-4-G3.jpg', 'Q6-8-4-G4.jpg', 'Q6-8-4-G5.jpg', 'Q6-8-4-G6.jpg', 'Q6-8-4-G7.jpg', 'Q6-8-4-G8.jpg', 'Q6-8-4-G9.jpg', 'Q6-8-4-G10.jpg', 'Q6-8-4-G11.jpg', 'Q6-8-4-G12.jpg', 'Q6-8-4-G13.jpg', 'Q6-8-4-G14.jpg', 'Q6-8-4-G15.jpg', 'Q6-8-4-G16.jpg', 'Q6-8-4-G17.jpg', 'Q6-8-4-G18.jpg', 'Q6-9-2-G1.jpg', 'Q6-9-2-G2.jpg', 'Q6-9-2-G3.jpg', 'Q6-9-2-G4.jpg', 'Q6-9-2-G5.jpg', 'Q6-9-2-G6.jpg', 'Q6-9-2-G7.jpg', 'Q6-9-2-G8.jpg', 'Q6-9-2-G9.jpg', 'Q6-9-2-G10.jpg', 'Q6-9-2-G11.jpg', 'Q6-9-2-G12.jpg', 'Q6-9-2-G13.jpg', 'Q6-9-2-G14.jpg', 'Q6-9-2-G15.jpg', 'Q6-9-2-G16.jpg', 'Q6-9-2-G17.jpg', 'Q6-9-2-G18.jpg', 'Q6-1-2-G19.jpg', 'Q6-1-2-G20.jpg', 'Q6-2-5-G19.jpg', 'Q6-2-5-G20.jpg', 'Q6-3-4-G19.jpg', 'Q6-3-4-G20.jpg', 'Q6-4-4-G19.jpg', 'Q6-4-4-G20.jpg', 'Q6-5-3-G19.jpg', 'Q6-5-3-G20.jpg', 'Q6-6-5-G19.jpg', 'Q6-6-5-G20.jpg', 'Q6-7-2-G19.jpg', 'Q6-7-2-G20.jpg', 'Q6-8-4-G19.jpg', 'Q6-8-4-G20.jpg', 'Q6-9-2-G19.jpg', 'Q6-9-2-G20.jpg']\n",
            "['Q6-2-1-I1.jpg', 'Q6-2-1-I2.jpg', 'Q6-2-1-I3.jpg', 'Q6-2-1-I4.jpg', 'Q6-2-1-I5.jpg', 'Q6-2-1-I6.jpg', 'Q6-2-1-I7.jpg', 'Q6-2-1-I8.jpg', 'Q6-2-1-I9.jpg', 'Q6-2-1-I10.jpg', 'Q6-2-2-I1.jpg', 'Q6-2-2-I2.jpg', 'Q6-2-2-I3.jpg', 'Q6-2-2-I4.jpg', 'Q6-2-2-I5.jpg', 'Q6-2-2-I6.jpg', 'Q6-2-2-I7.jpg', 'Q6-2-2-I8.jpg', 'Q6-2-2-I9.jpg', 'Q6-2-2-I10.jpg', 'Q6-3-1-I1.jpg', 'Q6-3-1-I3.jpg', 'Q6-3-1-I4.jpg', 'Q6-3-1-I5.jpg', 'Q6-3-1-I6.jpg', 'Q6-3-1-I7.jpg', 'Q6-3-1-I8.jpg', 'Q6-3-1-I9.jpg', 'Q6-3-1-I10.jpg', 'Q6-3-1-I2.jpg', 'Q6-3-2-I1.jpg', 'Q6-3-2-I2.jpg', 'Q6-3-2-I3.jpg', 'Q6-3-2-I5.jpg', 'Q6-3-2-I6.jpg', 'Q6-3-2-I7.jpg', 'Q6-3-2-I8.jpg', 'Q6-3-2-I9.jpg', 'Q6-3-2-I10.jpg', 'Q6-3-2-I4.jpg', 'Q6-1-4-I1.jpg', 'Q6-1-4-I2.jpg', 'Q6-1-4-I3.jpg', 'Q6-1-4-I4.jpg', 'Q6-1-4-I5.jpg', 'Q6-1-4-I6.jpg', 'Q6-1-4-I7.jpg', 'Q6-1-4-I8.jpg', 'Q6-1-4-I9.jpg', 'Q6-1-4-I10.jpg', 'Q6-1-5-I1.jpg', 'Q6-1-5-I2.jpg', 'Q6-1-5-I3.jpg', 'Q6-1-5-I4.jpg', 'Q6-1-5-I5.jpg', 'Q6-1-5-I6.jpg', 'Q6-1-5-I7.jpg', 'Q6-1-5-I8.jpg', 'Q6-1-5-I9.jpg', 'Q6-1-5-I10.jpg', 'Q6-4-1-I3.jpg', 'Q6-4-1-I4.jpg', 'Q6-4-1-I5.jpg', 'Q6-4-1-I6.jpg', 'Q6-4-1-I7.jpg', 'Q6-4-1-I8.jpg', 'Q6-4-1-I9.jpg', 'Q6-4-1-I10.jpg', 'Q6-4-1-I2.jpg', 'Q6-4-1-I1.jpg', 'Q6-4-3-I2.jpg', 'Q6-4-3-I3.jpg', 'Q6-4-3-I4.jpg', 'Q6-4-3-I6.jpg', 'Q6-4-3-I7.jpg', 'Q6-4-3-I9.jpg', 'Q6-4-3-I10.jpg', 'Q6-4-3-I5.jpg', 'Q6-4-3-I8.jpg', 'Q6-4-3-I1.jpg', 'Q6-5-2-I1.jpg', 'Q6-5-2-I2.jpg', 'Q6-5-2-I3.jpg', 'Q6-5-2-I4.jpg', 'Q6-5-2-I5.jpg', 'Q6-5-2-I6.jpg', 'Q6-5-2-I7.jpg', 'Q6-5-2-I8.jpg', 'Q6-5-2-I9.jpg', 'Q6-5-2-I10.jpg', 'Q6-5-4-I1.jpg', 'Q6-5-4-I2.jpg', 'Q6-5-4-I3.jpg', 'Q6-5-4-I4.jpg', 'Q6-5-4-I5.jpg', 'Q6-5-4-I6.jpg', 'Q6-5-4-I7.jpg', 'Q6-5-4-I8.jpg', 'Q6-5-4-I9.jpg', 'Q6-5-4-I10.jpg', 'Q6-6-2-I1.jpg', 'Q6-6-2-I2.jpg', 'Q6-6-2-I3.jpg', 'Q6-6-2-I4.jpg', 'Q6-6-2-I5.jpg', 'Q6-6-2-I6.jpg', 'Q6-6-2-I7.jpg', 'Q6-6-2-I8.jpg', 'Q6-6-2-I9.jpg', 'Q6-6-2-I10.jpg', 'Q6-6-3-I1.jpg', 'Q6-6-3-I2.jpg', 'Q6-6-3-I3.jpg', 'Q6-6-3-I4.jpg', 'Q6-6-3-I5.jpg', 'Q6-6-3-I6.jpg', 'Q6-6-3-I7.jpg', 'Q6-6-3-I8.jpg', 'Q6-6-3-I9.jpg', 'Q6-6-3-I10.jpg', 'Q6-7-3-I1.jpg', 'Q6-7-3-I2.jpg', 'Q6-7-3-I3.jpg', 'Q6-7-3-I4.jpg', 'Q6-7-3-I5.jpg', 'Q6-7-3-I6.jpg', 'Q6-7-3-I7.jpg', 'Q6-7-3-I8.jpg', 'Q6-7-3-I9.jpg', 'Q6-7-3-I10.jpg', 'Q6-7-4-I1.jpg', 'Q6-7-4-I2.jpg', 'Q6-7-4-I3.jpg', 'Q6-7-4-I4.jpg', 'Q6-7-4-I5.jpg', 'Q6-7-4-I6.jpg', 'Q6-7-4-I7.jpg', 'Q6-7-4-I8.jpg', 'Q6-7-4-I9.jpg', 'Q6-7-4-I10.jpg', 'Q6-8-2-I1.jpg', 'Q6-8-2-I2.jpg', 'Q6-8-2-I3.jpg', 'Q6-8-2-I4.jpg', 'Q6-8-2-I5.jpg', 'Q6-8-2-I6.jpg', 'Q6-8-2-I7.jpg', 'Q6-8-2-I8.jpg', 'Q6-8-2-I9.jpg', 'Q6-8-2-I10.jpg', 'Q6-8-3-I1.jpg', 'Q6-8-3-I2.jpg', 'Q6-8-3-I3.jpg', 'Q6-8-3-I4.jpg', 'Q6-8-3-I5.jpg', 'Q6-8-3-I6.jpg', 'Q6-8-3-I7.jpg', 'Q6-8-3-I8.jpg', 'Q6-8-3-I9.jpg', 'Q6-8-3-I10.jpg', 'Q6-9-3-I1.jpg', 'Q6-9-3-I2.jpg', 'Q6-9-3-I3.jpg', 'Q6-9-3-I4.jpg', 'Q6-9-3-I5.jpg', 'Q6-9-3-I6.jpg', 'Q6-9-3-I7.jpg', 'Q6-9-3-I8.jpg', 'Q6-9-3-I9.jpg', 'Q6-9-3-I10.jpg', 'Q6-9-5-I1.jpg', 'Q6-9-5-I2.jpg', 'Q6-9-5-I3.jpg', 'Q6-9-5-I4.jpg', 'Q6-9-5-I5.jpg', 'Q6-9-5-I6.jpg', 'Q6-9-5-I7.jpg', 'Q6-9-5-I9.jpg', 'Q6-9-5-I10.jpg', 'Q6-9-5-I8.jpg']\n"
          ],
          "name": "stdout"
        }
      ]
    },
    {
      "cell_type": "code",
      "metadata": {
        "id": "WkQzQVXn3k42",
        "colab_type": "code",
        "outputId": "60562fa1-e8f6-40ef-a77f-7450d17ea744",
        "colab": {
          "base_uri": "https://localhost:8080/",
          "height": 364
        }
      },
      "source": [
        "# find df texture for a given picture\n",
        "df=Go2Mahotas.Mahotas(ww[0],Size,Sub_Size,Crop,img_name)   # gotoMahotas junta Mahotas com outros calculos\n",
        "print(df)"
      ],
      "execution_count": 17,
      "outputs": [
        {
          "output_type": "stream",
          "text": [
            "         ASM   constrast    correl  ...  dif entropy      IMC1      IMC2\n",
            "0   0.049479  289.777778  0.440100  ...     2.958939 -0.799012  0.998434\n",
            "1   0.049479  253.722222  0.276894  ...     3.139495 -0.792832  0.998312\n",
            "2   0.049479  282.965278  0.069079  ...     3.167272 -0.786678  0.998161\n",
            "3   0.050154  248.562500 -0.043561  ...     2.967586 -0.774901  0.997908\n",
            "4   0.051890  113.291667  0.161531  ...     2.847828 -0.664940  0.992825\n",
            "5   0.060185   16.750000  0.182047  ...     2.691374 -0.514648  0.969636\n",
            "6   0.062114   15.604167  0.303923  ...     2.554052 -0.517851  0.969889\n",
            "7   0.068673   15.291667 -0.022397  ...     2.290163 -0.512844  0.966240\n",
            "8   0.074749   13.840278  0.020994  ...     2.362769 -0.483659  0.953700\n",
            "9   0.071759   11.402778 -0.180992  ...     2.317941 -0.431176  0.934115\n",
            "10  0.065394    7.527778 -0.114815  ...     2.209991 -0.449911  0.935752\n",
            "11  0.059317   26.715278  0.349715  ...     2.487769 -0.678333  0.992723\n",
            "12  0.053627   36.430556  0.522956  ...     2.889495 -0.762938  0.997298\n",
            "13  0.054302   53.486111  0.279798  ...     2.917272 -0.751558  0.996969\n",
            "14  0.055845   58.423611  0.215464  ...     2.845990 -0.682058  0.993617\n",
            "15  0.052758   77.819444 -0.007141  ...     2.919110 -0.618245  0.987640\n",
            "16  0.051022   62.166667  0.155147  ...     2.835777 -0.682478  0.994052\n",
            "\n",
            "[17 rows x 13 columns]\n"
          ],
          "name": "stdout"
        }
      ]
    },
    {
      "cell_type": "code",
      "metadata": {
        "id": "XfeRom6H2vPv",
        "colab_type": "code",
        "outputId": "19f105cb-da0c-44ee-cfeb-14c50ab43f15",
        "colab": {
          "base_uri": "https://localhost:8080/",
          "height": 55
        }
      },
      "source": [
        "Nomes=list(df.columns)\n",
        "Nomes_2=[]\n",
        "for it in Nomes:\n",
        "  Nomes_2.append(it)\n",
        "Nomes_2.append('colors') # vai adicionar as variaveis novas \n",
        "# caso queria adicionar outra variavel alem de cor, tem que modificar\n",
        "# a lista Nomes_2 com a adicao do nome da variavel a ser adicionada\n",
        "print(Nomes_2)"
      ],
      "execution_count": 18,
      "outputs": [
        {
          "output_type": "stream",
          "text": [
            "['ASM', 'constrast', 'correl', 'variance', 'inv diff mom', 'sum aveg', 'sum var', 'sum entropy', 'entropy', 'dif var', 'dif entropy', 'IMC1', 'IMC2', 'colors']\n"
          ],
          "name": "stdout"
        }
      ]
    },
    {
      "cell_type": "code",
      "metadata": {
        "id": "UgKlHvzR4T3J",
        "colab_type": "code",
        "colab": {}
      },
      "source": [
        "#print(Nomes)"
      ],
      "execution_count": 0,
      "outputs": []
    },
    {
      "cell_type": "code",
      "metadata": {
        "id": "BdfF9ZHzjDeI",
        "colab_type": "code",
        "outputId": "d8c6a816-c962-4a51-80f9-1c57bbd3f2fa",
        "colab": {
          "base_uri": "https://localhost:8080/",
          "height": 35
        }
      },
      "source": [
        "print(len(df['ASM']))"
      ],
      "execution_count": 20,
      "outputs": [
        {
          "output_type": "stream",
          "text": [
            "17\n"
          ],
          "name": "stdout"
        }
      ]
    },
    {
      "cell_type": "code",
      "metadata": {
        "id": "U2ymyUPFiADf",
        "colab_type": "code",
        "outputId": "c1dda38e-b6eb-419a-b113-40c32e418a26",
        "colab": {
          "base_uri": "https://localhost:8080/",
          "height": 89
        }
      },
      "source": [
        "# observacao: cuidado para nao confundir Buracos com Buraco\n",
        "#             cuidado para nao confundir Graos com Grao\n",
        "#             cuidado para nao confundir Indefs com Indef\n",
        "\n",
        "j=0\n",
        "cont=-1\n",
        "Posicao_Buraco=[]\n",
        "Buracos=[]\n",
        "for i in img_name:\n",
        "  cont=cont+1\n",
        "  for k in Buraco:\n",
        "    if(i==k):\n",
        "      Posicao_Buraco.append(cont)\n",
        "      Buracos.append(4) # Buracos.append(1)\n",
        "j=0\n",
        "cont=-1\n",
        "Posicao_Grao=[]\n",
        "Graos=[]\n",
        "for i in img_name:\n",
        "  cont=cont+1\n",
        "  for k in Grao:\n",
        "    if(i==k):\n",
        "      Posicao_Grao.append(cont)\n",
        "      Graos.append(5) # Graos.append(2)\n",
        "\n",
        "j=0\n",
        "cont=-1\n",
        "Posicao_Indef=[]\n",
        "Indefs=[]\n",
        "for i in img_name:\n",
        "  cont=cont+1\n",
        "  for k in Indef:\n",
        "    if(i==k):\n",
        "      Posicao_Indef.append(cont)\n",
        "      Indefs.append(9) # Indefs.append(3)\n",
        "\n",
        "print(Posicao_Grao)\n",
        "print(Posicao_Buraco)\n",
        "print(Posicao_Indef)"
      ],
      "execution_count": 21,
      "outputs": [
        {
          "output_type": "stream",
          "text": [
            "[9, 10, 11, 12, 13, 14, 15, 16, 17, 38, 39, 40, 41, 42, 43, 44, 45, 46, 67, 68, 69, 70, 71, 72, 73, 74, 75, 84, 97, 98, 99, 100, 101, 102, 103, 104, 105, 106, 117, 119, 120, 121, 122, 123, 124, 125, 126, 127, 128, 129, 150, 151, 152, 153, 154, 155, 156, 157, 158, 159, 180, 181, 182, 183, 184, 185, 186, 187, 188, 189, 210, 211, 212, 213, 214, 215, 216, 217, 218, 219, 240, 241, 242, 243, 244, 245, 246, 247, 248, 249, 270, 271, 272, 273, 274, 275, 276, 277, 278, 279, 300, 301, 302, 303, 304, 305, 306, 307, 308, 309, 330, 331, 332, 333, 334, 335, 336, 337, 338, 339, 360, 361, 362, 363, 364, 365, 366, 367, 368, 369, 390, 391, 392, 393, 394, 395, 396, 397, 398, 399, 420, 421, 422, 423, 424, 425, 426, 427, 428, 429, 450, 451, 452, 453, 454, 455, 456, 457, 458, 459, 480, 481, 482, 483, 484, 485, 486, 487, 488, 489, 510, 511, 512, 513, 514, 515, 516, 517, 518, 519, 540, 541, 542, 543, 544, 545, 546, 547, 548, 549, 550, 551, 552, 553, 554, 555, 556, 557, 558, 559, 560, 561, 562, 563, 564, 565, 566, 567, 568, 569, 570, 571, 572, 573, 574, 575, 576, 577, 578, 579, 580, 581, 582, 583, 584, 585, 586, 587, 588, 589, 590, 591, 592, 593, 594, 595, 596, 597, 598, 599, 600, 601, 602, 603, 604, 605, 606, 607, 608, 609, 610, 611, 612, 613, 614, 615, 616, 617, 618, 619, 620, 621, 622, 623, 624, 625, 626, 627, 628, 629, 630, 631, 632, 633, 634, 635, 636, 637, 638, 639, 640, 641, 642, 643, 644, 645, 646, 647, 648, 649, 650, 651, 652, 653, 654, 655, 656, 657, 658, 659, 660, 661, 662, 663, 664, 665, 666, 667, 668, 669, 670, 671, 672, 673, 674, 675, 676, 677, 678, 679, 680, 681, 682, 683, 684, 685, 686, 687, 688, 689, 690, 691, 692, 693, 694, 695, 696, 697, 698, 699, 700, 701, 702, 703, 704, 705, 706, 707, 708, 709, 710, 711, 712, 713, 714, 715, 716, 717, 718, 719]\n",
            "[0, 1, 2, 3, 4, 5, 6, 7, 8, 18, 29, 30, 31, 32, 33, 34, 35, 36, 37, 57, 58, 59, 60, 61, 62, 63, 64, 65, 66, 87, 88, 89, 90, 91, 92, 93, 94, 95, 96, 118, 130, 131, 132, 133, 134, 135, 136, 137, 138, 139, 160, 161, 162, 163, 164, 165, 166, 167, 168, 169, 190, 191, 192, 193, 194, 195, 196, 197, 198, 199, 220, 221, 222, 223, 224, 225, 226, 227, 228, 229, 250, 251, 252, 253, 254, 255, 256, 257, 258, 259, 280, 281, 282, 283, 284, 285, 286, 287, 288, 289, 310, 311, 312, 313, 314, 315, 316, 317, 318, 319, 340, 341, 342, 343, 344, 345, 346, 347, 348, 349, 370, 371, 372, 373, 374, 375, 376, 377, 378, 379, 400, 401, 402, 403, 404, 405, 406, 407, 408, 409, 430, 431, 432, 433, 434, 435, 436, 437, 438, 439, 460, 461, 462, 463, 464, 465, 466, 467, 468, 469, 490, 491, 492, 493, 494, 495, 496, 497, 498, 499, 520, 521, 522, 523, 524, 525, 526, 527, 528, 529]\n",
            "[19, 20, 21, 22, 23, 24, 25, 26, 27, 28, 47, 48, 49, 50, 51, 52, 53, 54, 55, 56, 76, 77, 78, 79, 80, 81, 82, 83, 85, 86, 107, 108, 109, 110, 111, 112, 113, 114, 115, 116, 140, 141, 142, 143, 144, 145, 146, 147, 148, 149, 170, 171, 172, 173, 174, 175, 176, 177, 178, 179, 200, 201, 202, 203, 204, 205, 206, 207, 208, 209, 230, 231, 232, 233, 234, 235, 236, 237, 238, 239, 260, 261, 262, 263, 264, 265, 266, 267, 268, 269, 290, 291, 292, 293, 294, 295, 296, 297, 298, 299, 320, 321, 322, 323, 324, 325, 326, 327, 328, 329, 350, 351, 352, 353, 354, 355, 356, 357, 358, 359, 380, 381, 382, 383, 384, 385, 386, 387, 388, 389, 410, 411, 412, 413, 414, 415, 416, 417, 418, 419, 440, 441, 442, 443, 444, 445, 446, 447, 448, 449, 470, 471, 472, 473, 474, 475, 476, 477, 478, 479, 500, 501, 502, 503, 504, 505, 506, 507, 508, 509, 530, 531, 532, 533, 534, 535, 536, 537, 538, 539]\n"
          ],
          "name": "stdout"
        }
      ]
    },
    {
      "cell_type": "code",
      "metadata": {
        "id": "7YCD3ESkSFfV",
        "colab_type": "code",
        "colab": {}
      },
      "source": [
        "#for i in range(len(Posicao_Buraco)):\n",
        "#for i in Posicao_Buraco:\n",
        "#  print(i)"
      ],
      "execution_count": 0,
      "outputs": []
    },
    {
      "cell_type": "code",
      "metadata": {
        "id": "aNTlSGubnL3P",
        "colab_type": "code",
        "colab": {}
      },
      "source": [
        "# compara constrast dos tres primeiros buracos\n",
        "\n",
        "Matriz_X_Buraco=[] #é a matriz com as 14 variaveis (mahotas+cor) para todas as fotos de buraco\n",
        "\n",
        "for k in Posicao_Buraco:\n",
        "  df=Go2Mahotas.Mahotas(ww[k],Size,Sub_Size,Crop,img_name)\n",
        "  Linha=[]\n",
        "  for it in Nomes:\n",
        "    #print(Linha)\n",
        "    #print(\"Nomes=\",Nomes)\n",
        "    #print(\"it=\",it)\n",
        "    #print(df[it])\n",
        "    Linha.append(np.mean(df[it]))\n",
        "\n",
        "  Linha.append(New_Colunm[k])\n",
        "  Matriz_X_Buraco.append(Linha)\n",
        "  #plt.figure(i+1)\n",
        "  #plt.plot(df['constrast'])\n",
        "  #print(len(Matriz_X_Buraco))\n",
        "#print(pd.DataFrame(Matriz_X_Buraco)) \n",
        "#Contraste_Buraco=pd.DataFrame(Matriz_X_Buraco,columns=Nomes)\n",
        "Contraste_Buraco=pd.DataFrame(Matriz_X_Buraco,columns=Nomes_2) #é a matriz com as 14 variaveis (mahotas+cor) para todas as fotos de buraco, com os nomes do Índice"
      ],
      "execution_count": 0,
      "outputs": []
    },
    {
      "cell_type": "code",
      "metadata": {
        "id": "MMP5HkYEBrAK",
        "colab_type": "code",
        "outputId": "36996b75-34db-4db9-e417-d13b7e14631b",
        "colab": {
          "base_uri": "https://localhost:8080/",
          "height": 260
        }
      },
      "source": [
        "# Insert the new column at position 1.\n",
        "Contraste_Buraco.insert(0,\"Type\",1,True)\n",
        "print(Contraste_Buraco)"
      ],
      "execution_count": 24,
      "outputs": [
        {
          "output_type": "stream",
          "text": [
            "     Type       ASM   constrast  ...      IMC1      IMC2  colors\n",
            "0       1  0.057660   93.163399  ... -0.641415  0.981016  0.4125\n",
            "1       1  0.050126  402.455882  ... -0.799590  0.998222  0.4100\n",
            "2       1  0.052866  154.894608  ... -0.740076  0.995090  0.4225\n",
            "3       1  0.050115  397.558007  ... -0.781537  0.997694  0.5300\n",
            "4       1  0.054080  108.011438  ... -0.723026  0.994235  0.4900\n",
            "..    ...       ...         ...  ...       ...       ...     ...\n",
            "175     1  0.053672  364.052288  ... -0.730844  0.992383  0.4875\n",
            "176     1  0.056685   94.662582  ... -0.673195  0.989868  0.4475\n",
            "177     1  0.062500  220.456291  ... -0.663729  0.985292  0.5700\n",
            "178     1  0.051437  196.939542  ... -0.770135  0.997371  0.5350\n",
            "179     1  0.060991   40.850899  ... -0.644060  0.986982  0.3850\n",
            "\n",
            "[180 rows x 15 columns]\n"
          ],
          "name": "stdout"
        }
      ]
    },
    {
      "cell_type": "code",
      "metadata": {
        "id": "FKpqBGqMq0U2",
        "colab_type": "code",
        "colab": {}
      },
      "source": [
        "# compara constrast dos graos\n",
        "\n",
        "Matriz_X_Grao=[] #é a matriz com as 14 variaveis (mahotas+cor) para todas as fotos de grao\n",
        "\n",
        "for k in Posicao_Grao:\n",
        "  df=Go2Mahotas.Mahotas(ww[k],Size,Sub_Size,Crop,img_name)\n",
        "  Linha=[]\n",
        "  for it in Nomes:\n",
        "    Linha.append(np.mean(df[it]))\n",
        "    \n",
        "  Linha.append(New_Colunm[k])\n",
        "  Matriz_X_Grao.append(Linha)\n",
        "#print(pd.DataFrame(Matriz_X_Grao))\n",
        "\n",
        "Contraste_Grao=pd.DataFrame(Matriz_X_Grao,columns=Nomes_2) #é a matriz com as 14 variaveis (mahotas+cor) para todas as fotos de grao, com os nomes do Índice"
      ],
      "execution_count": 0,
      "outputs": []
    },
    {
      "cell_type": "code",
      "metadata": {
        "id": "BB-sS62MsF1p",
        "colab_type": "code",
        "outputId": "e45a8bff-3690-4e6f-9e11-d2735b194f55",
        "colab": {
          "base_uri": "https://localhost:8080/",
          "height": 260
        }
      },
      "source": [
        "# Insert the new column at position 1.\n",
        "Contraste_Grao.insert(0,\"Type\",2,True)\n",
        "print(Contraste_Grao)"
      ],
      "execution_count": 26,
      "outputs": [
        {
          "output_type": "stream",
          "text": [
            "     Type       ASM    constrast  ...      IMC1      IMC2  colors\n",
            "0       2  0.049178  1150.217729  ... -0.838216  0.999035  0.5300\n",
            "1       2  0.051368   441.850899  ... -0.753394  0.996884  0.5775\n",
            "2       2  0.051771   654.863562  ... -0.771971  0.996772  0.4675\n",
            "3       2  0.050886  4923.803513  ... -0.789735  0.997711  0.4675\n",
            "4       2  0.052248   471.955474  ... -0.748800  0.995720  0.5000\n",
            "..    ...       ...          ...  ...       ...       ...     ...\n",
            "355     2  0.059062   185.276144  ... -0.673529  0.989175  0.4625\n",
            "356     2  0.065484    88.034314  ... -0.638832  0.983103  0.5825\n",
            "357     2  0.065036    29.092729  ... -0.636106  0.978040  0.6250\n",
            "358     2  0.051766   563.948121  ... -0.779659  0.997217  0.4850\n",
            "359     2  0.052254   405.430964  ... -0.758353  0.996727  0.5575\n",
            "\n",
            "[360 rows x 15 columns]\n"
          ],
          "name": "stdout"
        }
      ]
    },
    {
      "cell_type": "code",
      "metadata": {
        "id": "e6cV2a71_tJL",
        "colab_type": "code",
        "outputId": "d84bbdcd-e8ac-4471-d514-1975ebf4b246",
        "colab": {
          "base_uri": "https://localhost:8080/",
          "height": 89
        }
      },
      "source": [
        "print(Posicao_Grao)\n",
        "print(Posicao_Buraco)\n",
        "print(Posicao_Indef)"
      ],
      "execution_count": 27,
      "outputs": [
        {
          "output_type": "stream",
          "text": [
            "[9, 10, 11, 12, 13, 14, 15, 16, 17, 38, 39, 40, 41, 42, 43, 44, 45, 46, 67, 68, 69, 70, 71, 72, 73, 74, 75, 84, 97, 98, 99, 100, 101, 102, 103, 104, 105, 106, 117, 119, 120, 121, 122, 123, 124, 125, 126, 127, 128, 129, 150, 151, 152, 153, 154, 155, 156, 157, 158, 159, 180, 181, 182, 183, 184, 185, 186, 187, 188, 189, 210, 211, 212, 213, 214, 215, 216, 217, 218, 219, 240, 241, 242, 243, 244, 245, 246, 247, 248, 249, 270, 271, 272, 273, 274, 275, 276, 277, 278, 279, 300, 301, 302, 303, 304, 305, 306, 307, 308, 309, 330, 331, 332, 333, 334, 335, 336, 337, 338, 339, 360, 361, 362, 363, 364, 365, 366, 367, 368, 369, 390, 391, 392, 393, 394, 395, 396, 397, 398, 399, 420, 421, 422, 423, 424, 425, 426, 427, 428, 429, 450, 451, 452, 453, 454, 455, 456, 457, 458, 459, 480, 481, 482, 483, 484, 485, 486, 487, 488, 489, 510, 511, 512, 513, 514, 515, 516, 517, 518, 519, 540, 541, 542, 543, 544, 545, 546, 547, 548, 549, 550, 551, 552, 553, 554, 555, 556, 557, 558, 559, 560, 561, 562, 563, 564, 565, 566, 567, 568, 569, 570, 571, 572, 573, 574, 575, 576, 577, 578, 579, 580, 581, 582, 583, 584, 585, 586, 587, 588, 589, 590, 591, 592, 593, 594, 595, 596, 597, 598, 599, 600, 601, 602, 603, 604, 605, 606, 607, 608, 609, 610, 611, 612, 613, 614, 615, 616, 617, 618, 619, 620, 621, 622, 623, 624, 625, 626, 627, 628, 629, 630, 631, 632, 633, 634, 635, 636, 637, 638, 639, 640, 641, 642, 643, 644, 645, 646, 647, 648, 649, 650, 651, 652, 653, 654, 655, 656, 657, 658, 659, 660, 661, 662, 663, 664, 665, 666, 667, 668, 669, 670, 671, 672, 673, 674, 675, 676, 677, 678, 679, 680, 681, 682, 683, 684, 685, 686, 687, 688, 689, 690, 691, 692, 693, 694, 695, 696, 697, 698, 699, 700, 701, 702, 703, 704, 705, 706, 707, 708, 709, 710, 711, 712, 713, 714, 715, 716, 717, 718, 719]\n",
            "[0, 1, 2, 3, 4, 5, 6, 7, 8, 18, 29, 30, 31, 32, 33, 34, 35, 36, 37, 57, 58, 59, 60, 61, 62, 63, 64, 65, 66, 87, 88, 89, 90, 91, 92, 93, 94, 95, 96, 118, 130, 131, 132, 133, 134, 135, 136, 137, 138, 139, 160, 161, 162, 163, 164, 165, 166, 167, 168, 169, 190, 191, 192, 193, 194, 195, 196, 197, 198, 199, 220, 221, 222, 223, 224, 225, 226, 227, 228, 229, 250, 251, 252, 253, 254, 255, 256, 257, 258, 259, 280, 281, 282, 283, 284, 285, 286, 287, 288, 289, 310, 311, 312, 313, 314, 315, 316, 317, 318, 319, 340, 341, 342, 343, 344, 345, 346, 347, 348, 349, 370, 371, 372, 373, 374, 375, 376, 377, 378, 379, 400, 401, 402, 403, 404, 405, 406, 407, 408, 409, 430, 431, 432, 433, 434, 435, 436, 437, 438, 439, 460, 461, 462, 463, 464, 465, 466, 467, 468, 469, 490, 491, 492, 493, 494, 495, 496, 497, 498, 499, 520, 521, 522, 523, 524, 525, 526, 527, 528, 529]\n",
            "[19, 20, 21, 22, 23, 24, 25, 26, 27, 28, 47, 48, 49, 50, 51, 52, 53, 54, 55, 56, 76, 77, 78, 79, 80, 81, 82, 83, 85, 86, 107, 108, 109, 110, 111, 112, 113, 114, 115, 116, 140, 141, 142, 143, 144, 145, 146, 147, 148, 149, 170, 171, 172, 173, 174, 175, 176, 177, 178, 179, 200, 201, 202, 203, 204, 205, 206, 207, 208, 209, 230, 231, 232, 233, 234, 235, 236, 237, 238, 239, 260, 261, 262, 263, 264, 265, 266, 267, 268, 269, 290, 291, 292, 293, 294, 295, 296, 297, 298, 299, 320, 321, 322, 323, 324, 325, 326, 327, 328, 329, 350, 351, 352, 353, 354, 355, 356, 357, 358, 359, 380, 381, 382, 383, 384, 385, 386, 387, 388, 389, 410, 411, 412, 413, 414, 415, 416, 417, 418, 419, 440, 441, 442, 443, 444, 445, 446, 447, 448, 449, 470, 471, 472, 473, 474, 475, 476, 477, 478, 479, 500, 501, 502, 503, 504, 505, 506, 507, 508, 509, 530, 531, 532, 533, 534, 535, 536, 537, 538, 539]\n"
          ],
          "name": "stdout"
        }
      ]
    },
    {
      "cell_type": "code",
      "metadata": {
        "id": "uno28vfVq0lc",
        "colab_type": "code",
        "colab": {}
      },
      "source": [
        "# compara constrast dos indefinidos\n",
        "\n",
        "Matriz_X_Indef=[] #é a matriz com as 14 variaveis (mahotas+cor) para todas as fotos de indef\n",
        "\n",
        "for k in Posicao_Indef:\n",
        "  df=Go2Mahotas.Mahotas(ww[k],Size,Sub_Size,Crop,img_name)\n",
        "  Linha=[]\n",
        "  for it in Nomes:\n",
        "    Linha.append(np.mean(df[it]))\n",
        "    \n",
        "  Linha.append(New_Colunm[k])\n",
        "  Matriz_X_Indef.append(Linha)\n",
        "Contraste_Indef=pd.DataFrame(Matriz_X_Indef,columns=Nomes_2) #é a matriz com as 14 variaveis (mahotas+cor) para todas as fotos de indef, com os nomes do Índice"
      ],
      "execution_count": 0,
      "outputs": []
    },
    {
      "cell_type": "code",
      "metadata": {
        "id": "gf4jCbwHtDOs",
        "colab_type": "code",
        "outputId": "499d45e3-0948-4465-a2fb-19f56402e5b1",
        "colab": {
          "base_uri": "https://localhost:8080/",
          "height": 260
        }
      },
      "source": [
        "# Insert the new column at position 1.\n",
        "Contraste_Indef.insert(0,\"Type\",3,True)\n",
        "print(Contraste_Indef)"
      ],
      "execution_count": 29,
      "outputs": [
        {
          "output_type": "stream",
          "text": [
            "     Type       ASM   constrast  ...      IMC1      IMC2  colors\n",
            "0       3  0.053502  676.171977  ... -0.764121  0.996458  0.4950\n",
            "1       3  0.053071  977.175245  ... -0.755512  0.995854  0.5525\n",
            "2       3  0.051873  336.188317  ... -0.742426  0.995858  0.4800\n",
            "3       3  0.054058  136.683824  ... -0.732124  0.994613  0.5275\n",
            "4       3  0.052781  275.703431  ... -0.760461  0.996866  0.4325\n",
            "..    ...       ...         ...  ...       ...       ...     ...\n",
            "175     3  0.054614  137.834150  ... -0.724717  0.994877  0.5300\n",
            "176     3  0.052191  995.582925  ... -0.760552  0.996958  0.4400\n",
            "177     3  0.057490   41.932190  ... -0.715172  0.992185  0.5225\n",
            "178     3  0.056889   66.435049  ... -0.710818  0.994279  0.5325\n",
            "179     3  0.053933  104.133170  ... -0.730964  0.992647  0.5100\n",
            "\n",
            "[180 rows x 15 columns]\n"
          ],
          "name": "stdout"
        }
      ]
    },
    {
      "cell_type": "code",
      "metadata": {
        "id": "EHSBh2ye9WV8",
        "colab_type": "code",
        "outputId": "36c88107-f87d-4e5d-e37a-0d6bcf5ba464",
        "colab": {
          "base_uri": "https://localhost:8080/",
          "height": 156
        }
      },
      "source": [
        "print(Contraste_Buraco.head())"
      ],
      "execution_count": 30,
      "outputs": [
        {
          "output_type": "stream",
          "text": [
            "   Type       ASM   constrast  ...      IMC1      IMC2  colors\n",
            "0     1  0.057660   93.163399  ... -0.641415  0.981016  0.4125\n",
            "1     1  0.050126  402.455882  ... -0.799590  0.998222  0.4100\n",
            "2     1  0.052866  154.894608  ... -0.740076  0.995090  0.4225\n",
            "3     1  0.050115  397.558007  ... -0.781537  0.997694  0.5300\n",
            "4     1  0.054080  108.011438  ... -0.723026  0.994235  0.4900\n",
            "\n",
            "[5 rows x 15 columns]\n"
          ],
          "name": "stdout"
        }
      ]
    },
    {
      "cell_type": "code",
      "metadata": {
        "id": "k5e1EwMAs84e",
        "colab_type": "code",
        "outputId": "8f769e3f-1699-4671-ca6d-0b7790f8625a",
        "colab": {
          "base_uri": "https://localhost:8080/",
          "height": 156
        }
      },
      "source": [
        "print(Contraste_Grao.head())"
      ],
      "execution_count": 31,
      "outputs": [
        {
          "output_type": "stream",
          "text": [
            "   Type       ASM    constrast  ...      IMC1      IMC2  colors\n",
            "0     2  0.049178  1150.217729  ... -0.838216  0.999035  0.5300\n",
            "1     2  0.051368   441.850899  ... -0.753394  0.996884  0.5775\n",
            "2     2  0.051771   654.863562  ... -0.771971  0.996772  0.4675\n",
            "3     2  0.050886  4923.803513  ... -0.789735  0.997711  0.4675\n",
            "4     2  0.052248   471.955474  ... -0.748800  0.995720  0.5000\n",
            "\n",
            "[5 rows x 15 columns]\n"
          ],
          "name": "stdout"
        }
      ]
    },
    {
      "cell_type": "code",
      "metadata": {
        "id": "3ehKvYQAs9TP",
        "colab_type": "code",
        "outputId": "14c26372-616e-4e86-fbb2-2a5b2552701b",
        "colab": {
          "base_uri": "https://localhost:8080/",
          "height": 156
        }
      },
      "source": [
        "print(Contraste_Indef.head())"
      ],
      "execution_count": 32,
      "outputs": [
        {
          "output_type": "stream",
          "text": [
            "   Type       ASM   constrast  ...      IMC1      IMC2  colors\n",
            "0     3  0.053502  676.171977  ... -0.764121  0.996458  0.4950\n",
            "1     3  0.053071  977.175245  ... -0.755512  0.995854  0.5525\n",
            "2     3  0.051873  336.188317  ... -0.742426  0.995858  0.4800\n",
            "3     3  0.054058  136.683824  ... -0.732124  0.994613  0.5275\n",
            "4     3  0.052781  275.703431  ... -0.760461  0.996866  0.4325\n",
            "\n",
            "[5 rows x 15 columns]\n"
          ],
          "name": "stdout"
        }
      ]
    },
    {
      "cell_type": "code",
      "metadata": {
        "id": "umnYO8zBI2J_",
        "colab_type": "code",
        "colab": {}
      },
      "source": [
        "Contraste_Completo_mar_2020 = pd.concat([Contraste_Buraco, Contraste_Grao, Contraste_Indef], axis=0)"
      ],
      "execution_count": 0,
      "outputs": []
    },
    {
      "cell_type": "code",
      "metadata": {
        "id": "3aZ6btGKJpr7",
        "colab_type": "code",
        "outputId": "e0c36866-d910-40b3-b8ad-94a8e988edc0",
        "colab": {
          "base_uri": "https://localhost:8080/",
          "height": 260
        }
      },
      "source": [
        "print(Contraste_Completo_mar_2020)"
      ],
      "execution_count": 34,
      "outputs": [
        {
          "output_type": "stream",
          "text": [
            "     Type       ASM   constrast  ...      IMC1      IMC2  colors\n",
            "0       1  0.057660   93.163399  ... -0.641415  0.981016  0.4125\n",
            "1       1  0.050126  402.455882  ... -0.799590  0.998222  0.4100\n",
            "2       1  0.052866  154.894608  ... -0.740076  0.995090  0.4225\n",
            "3       1  0.050115  397.558007  ... -0.781537  0.997694  0.5300\n",
            "4       1  0.054080  108.011438  ... -0.723026  0.994235  0.4900\n",
            "..    ...       ...         ...  ...       ...       ...     ...\n",
            "175     3  0.054614  137.834150  ... -0.724717  0.994877  0.5300\n",
            "176     3  0.052191  995.582925  ... -0.760552  0.996958  0.4400\n",
            "177     3  0.057490   41.932190  ... -0.715172  0.992185  0.5225\n",
            "178     3  0.056889   66.435049  ... -0.710818  0.994279  0.5325\n",
            "179     3  0.053933  104.133170  ... -0.730964  0.992647  0.5100\n",
            "\n",
            "[720 rows x 15 columns]\n"
          ],
          "name": "stdout"
        }
      ]
    },
    {
      "cell_type": "code",
      "metadata": {
        "id": "dZSOVH78CeU_",
        "colab_type": "code",
        "outputId": "36094944-b6db-4471-d837-2e981b10f1c1",
        "colab": {
          "base_uri": "https://localhost:8080/",
          "height": 124
        }
      },
      "source": [
        "# found drive\n",
        "from google.colab import drive\n",
        "drive.mount('drive')"
      ],
      "execution_count": 35,
      "outputs": [
        {
          "output_type": "stream",
          "text": [
            "Go to this URL in a browser: https://accounts.google.com/o/oauth2/auth?client_id=947318989803-6bn6qk8qdgf4n4g3pfee6491hc0brc4i.apps.googleusercontent.com&redirect_uri=urn%3aietf%3awg%3aoauth%3a2.0%3aoob&response_type=code&scope=email%20https%3a%2f%2fwww.googleapis.com%2fauth%2fdocs.test%20https%3a%2f%2fwww.googleapis.com%2fauth%2fdrive%20https%3a%2f%2fwww.googleapis.com%2fauth%2fdrive.photos.readonly%20https%3a%2f%2fwww.googleapis.com%2fauth%2fpeopleapi.readonly\n",
            "\n",
            "Enter your authorization code:\n",
            "··········\n",
            "Mounted at drive\n"
          ],
          "name": "stdout"
        }
      ]
    },
    {
      "cell_type": "code",
      "metadata": {
        "id": "Lw8rqNu0CpQv",
        "colab_type": "code",
        "colab": {}
      },
      "source": [
        "# get csv file\n",
        "Contraste_Completo_mar_2020.to_csv('Contraste_Completo_mar_2020.csv', float_format=\"%.5f\")"
      ],
      "execution_count": 0,
      "outputs": []
    },
    {
      "cell_type": "code",
      "metadata": {
        "id": "65m5BDM5NDfH",
        "colab_type": "code",
        "colab": {}
      },
      "source": [
        "\n",
        "# save in drive\n",
        "!cp Contraste_Completo_mar_2020.csv drive/My\\ Drive/Maria_Gabriela_Textura_dados_jan_2020/"
      ],
      "execution_count": 0,
      "outputs": []
    }
  ]
}