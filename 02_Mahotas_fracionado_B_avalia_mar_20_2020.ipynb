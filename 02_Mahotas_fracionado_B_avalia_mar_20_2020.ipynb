{
  "nbformat": 4,
  "nbformat_minor": 0,
  "metadata": {
    "colab": {
      "name": "02_Mahotas_fracionado_B_avalia_mar_20_2020.ipynb",
      "provenance": [],
      "collapsed_sections": [],
      "include_colab_link": true
    },
    "kernelspec": {
      "name": "python3",
      "display_name": "Python 3"
    },
    "accelerator": "GPU"
  },
  "cells": [
    {
      "cell_type": "markdown",
      "metadata": {
        "id": "view-in-github",
        "colab_type": "text"
      },
      "source": [
        "<a href=\"https://colab.research.google.com/github/ucfilho/marquesgabi_abril_2020/blob/master/02_Mahotas_fracionado_B_avalia_mar_20_2020.ipynb\" target=\"_parent\"><img src=\"https://colab.research.google.com/assets/colab-badge.svg\" alt=\"Open In Colab\"/></a>"
      ]
    },
    {
      "cell_type": "code",
      "metadata": {
        "id": "f393Z8HdEmRg",
        "colab_type": "code",
        "outputId": "2b8bd248-8a3a-4b52-d850-a4136334838b",
        "colab": {
          "base_uri": "https://localhost:8080/",
          "height": 228
        }
      },
      "source": [
        "!pip install mahotas"
      ],
      "execution_count": 1,
      "outputs": [
        {
          "output_type": "stream",
          "text": [
            "Collecting mahotas\n",
            "\u001b[?25l  Downloading https://files.pythonhosted.org/packages/84/74/bd38163462eb346519f36dc205f0a52a01fb372c7bbcc87392c9b21cfe26/mahotas-1.4.9.tar.gz (1.5MB)\n",
            "\r\u001b[K     |▏                               | 10kB 23.2MB/s eta 0:00:01\r\u001b[K     |▍                               | 20kB 6.3MB/s eta 0:00:01\r\u001b[K     |▋                               | 30kB 8.8MB/s eta 0:00:01\r\u001b[K     |▉                               | 40kB 5.7MB/s eta 0:00:01\r\u001b[K     |█                               | 51kB 7.0MB/s eta 0:00:01\r\u001b[K     |█▎                              | 61kB 8.3MB/s eta 0:00:01\r\u001b[K     |█▌                              | 71kB 9.4MB/s eta 0:00:01\r\u001b[K     |█▊                              | 81kB 10.5MB/s eta 0:00:01\r\u001b[K     |██                              | 92kB 11.6MB/s eta 0:00:01\r\u001b[K     |██▏                             | 102kB 9.2MB/s eta 0:00:01\r\u001b[K     |██▍                             | 112kB 9.2MB/s eta 0:00:01\r\u001b[K     |██▋                             | 122kB 9.2MB/s eta 0:00:01\r\u001b[K     |██▉                             | 133kB 9.2MB/s eta 0:00:01\r\u001b[K     |███                             | 143kB 9.2MB/s eta 0:00:01\r\u001b[K     |███▏                            | 153kB 9.2MB/s eta 0:00:01\r\u001b[K     |███▍                            | 163kB 9.2MB/s eta 0:00:01\r\u001b[K     |███▋                            | 174kB 9.2MB/s eta 0:00:01\r\u001b[K     |███▉                            | 184kB 9.2MB/s eta 0:00:01\r\u001b[K     |████                            | 194kB 9.2MB/s eta 0:00:01\r\u001b[K     |████▎                           | 204kB 9.2MB/s eta 0:00:01\r\u001b[K     |████▌                           | 215kB 9.2MB/s eta 0:00:01\r\u001b[K     |████▊                           | 225kB 9.2MB/s eta 0:00:01\r\u001b[K     |█████                           | 235kB 9.2MB/s eta 0:00:01\r\u001b[K     |█████▏                          | 245kB 9.2MB/s eta 0:00:01\r\u001b[K     |█████▍                          | 256kB 9.2MB/s eta 0:00:01\r\u001b[K     |█████▋                          | 266kB 9.2MB/s eta 0:00:01\r\u001b[K     |█████▊                          | 276kB 9.2MB/s eta 0:00:01\r\u001b[K     |██████                          | 286kB 9.2MB/s eta 0:00:01\r\u001b[K     |██████▏                         | 296kB 9.2MB/s eta 0:00:01\r\u001b[K     |██████▍                         | 307kB 9.2MB/s eta 0:00:01\r\u001b[K     |██████▋                         | 317kB 9.2MB/s eta 0:00:01\r\u001b[K     |██████▉                         | 327kB 9.2MB/s eta 0:00:01\r\u001b[K     |███████                         | 337kB 9.2MB/s eta 0:00:01\r\u001b[K     |███████▎                        | 348kB 9.2MB/s eta 0:00:01\r\u001b[K     |███████▌                        | 358kB 9.2MB/s eta 0:00:01\r\u001b[K     |███████▊                        | 368kB 9.2MB/s eta 0:00:01\r\u001b[K     |████████                        | 378kB 9.2MB/s eta 0:00:01\r\u001b[K     |████████▏                       | 389kB 9.2MB/s eta 0:00:01\r\u001b[K     |████████▍                       | 399kB 9.2MB/s eta 0:00:01\r\u001b[K     |████████▋                       | 409kB 9.2MB/s eta 0:00:01\r\u001b[K     |████████▊                       | 419kB 9.2MB/s eta 0:00:01\r\u001b[K     |█████████                       | 430kB 9.2MB/s eta 0:00:01\r\u001b[K     |█████████▏                      | 440kB 9.2MB/s eta 0:00:01\r\u001b[K     |█████████▍                      | 450kB 9.2MB/s eta 0:00:01\r\u001b[K     |█████████▋                      | 460kB 9.2MB/s eta 0:00:01\r\u001b[K     |█████████▉                      | 471kB 9.2MB/s eta 0:00:01\r\u001b[K     |██████████                      | 481kB 9.2MB/s eta 0:00:01\r\u001b[K     |██████████▎                     | 491kB 9.2MB/s eta 0:00:01\r\u001b[K     |██████████▌                     | 501kB 9.2MB/s eta 0:00:01\r\u001b[K     |██████████▊                     | 512kB 9.2MB/s eta 0:00:01\r\u001b[K     |███████████                     | 522kB 9.2MB/s eta 0:00:01\r\u001b[K     |███████████▏                    | 532kB 9.2MB/s eta 0:00:01\r\u001b[K     |███████████▍                    | 542kB 9.2MB/s eta 0:00:01\r\u001b[K     |███████████▌                    | 552kB 9.2MB/s eta 0:00:01\r\u001b[K     |███████████▊                    | 563kB 9.2MB/s eta 0:00:01\r\u001b[K     |████████████                    | 573kB 9.2MB/s eta 0:00:01\r\u001b[K     |████████████▏                   | 583kB 9.2MB/s eta 0:00:01\r\u001b[K     |████████████▍                   | 593kB 9.2MB/s eta 0:00:01\r\u001b[K     |████████████▋                   | 604kB 9.2MB/s eta 0:00:01\r\u001b[K     |████████████▉                   | 614kB 9.2MB/s eta 0:00:01\r\u001b[K     |█████████████                   | 624kB 9.2MB/s eta 0:00:01\r\u001b[K     |█████████████▎                  | 634kB 9.2MB/s eta 0:00:01\r\u001b[K     |█████████████▌                  | 645kB 9.2MB/s eta 0:00:01\r\u001b[K     |█████████████▊                  | 655kB 9.2MB/s eta 0:00:01\r\u001b[K     |██████████████                  | 665kB 9.2MB/s eta 0:00:01\r\u001b[K     |██████████████▏                 | 675kB 9.2MB/s eta 0:00:01\r\u001b[K     |██████████████▍                 | 686kB 9.2MB/s eta 0:00:01\r\u001b[K     |██████████████▌                 | 696kB 9.2MB/s eta 0:00:01\r\u001b[K     |██████████████▊                 | 706kB 9.2MB/s eta 0:00:01\r\u001b[K     |███████████████                 | 716kB 9.2MB/s eta 0:00:01\r\u001b[K     |███████████████▏                | 727kB 9.2MB/s eta 0:00:01\r\u001b[K     |███████████████▍                | 737kB 9.2MB/s eta 0:00:01\r\u001b[K     |███████████████▋                | 747kB 9.2MB/s eta 0:00:01\r\u001b[K     |███████████████▉                | 757kB 9.2MB/s eta 0:00:01\r\u001b[K     |████████████████                | 768kB 9.2MB/s eta 0:00:01\r\u001b[K     |████████████████▎               | 778kB 9.2MB/s eta 0:00:01\r\u001b[K     |████████████████▌               | 788kB 9.2MB/s eta 0:00:01\r\u001b[K     |████████████████▊               | 798kB 9.2MB/s eta 0:00:01\r\u001b[K     |█████████████████               | 808kB 9.2MB/s eta 0:00:01\r\u001b[K     |█████████████████▏              | 819kB 9.2MB/s eta 0:00:01\r\u001b[K     |█████████████████▎              | 829kB 9.2MB/s eta 0:00:01\r\u001b[K     |█████████████████▌              | 839kB 9.2MB/s eta 0:00:01\r\u001b[K     |█████████████████▊              | 849kB 9.2MB/s eta 0:00:01\r\u001b[K     |██████████████████              | 860kB 9.2MB/s eta 0:00:01\r\u001b[K     |██████████████████▏             | 870kB 9.2MB/s eta 0:00:01\r\u001b[K     |██████████████████▍             | 880kB 9.2MB/s eta 0:00:01\r\u001b[K     |██████████████████▋             | 890kB 9.2MB/s eta 0:00:01\r\u001b[K     |██████████████████▉             | 901kB 9.2MB/s eta 0:00:01\r\u001b[K     |███████████████████             | 911kB 9.2MB/s eta 0:00:01\r\u001b[K     |███████████████████▎            | 921kB 9.2MB/s eta 0:00:01\r\u001b[K     |███████████████████▌            | 931kB 9.2MB/s eta 0:00:01\r\u001b[K     |███████████████████▊            | 942kB 9.2MB/s eta 0:00:01\r\u001b[K     |████████████████████            | 952kB 9.2MB/s eta 0:00:01\r\u001b[K     |████████████████████▏           | 962kB 9.2MB/s eta 0:00:01\r\u001b[K     |████████████████████▎           | 972kB 9.2MB/s eta 0:00:01\r\u001b[K     |████████████████████▌           | 983kB 9.2MB/s eta 0:00:01\r\u001b[K     |████████████████████▊           | 993kB 9.2MB/s eta 0:00:01\r\u001b[K     |█████████████████████           | 1.0MB 9.2MB/s eta 0:00:01\r\u001b[K     |█████████████████████▏          | 1.0MB 9.2MB/s eta 0:00:01\r\u001b[K     |█████████████████████▍          | 1.0MB 9.2MB/s eta 0:00:01\r\u001b[K     |█████████████████████▋          | 1.0MB 9.2MB/s eta 0:00:01\r\u001b[K     |█████████████████████▉          | 1.0MB 9.2MB/s eta 0:00:01\r\u001b[K     |██████████████████████          | 1.1MB 9.2MB/s eta 0:00:01\r\u001b[K     |██████████████████████▎         | 1.1MB 9.2MB/s eta 0:00:01\r\u001b[K     |██████████████████████▌         | 1.1MB 9.2MB/s eta 0:00:01\r\u001b[K     |██████████████████████▊         | 1.1MB 9.2MB/s eta 0:00:01\r\u001b[K     |███████████████████████         | 1.1MB 9.2MB/s eta 0:00:01\r\u001b[K     |███████████████████████         | 1.1MB 9.2MB/s eta 0:00:01\r\u001b[K     |███████████████████████▎        | 1.1MB 9.2MB/s eta 0:00:01\r\u001b[K     |███████████████████████▌        | 1.1MB 9.2MB/s eta 0:00:01\r\u001b[K     |███████████████████████▊        | 1.1MB 9.2MB/s eta 0:00:01\r\u001b[K     |████████████████████████        | 1.1MB 9.2MB/s eta 0:00:01\r\u001b[K     |████████████████████████▏       | 1.2MB 9.2MB/s eta 0:00:01\r\u001b[K     |████████████████████████▍       | 1.2MB 9.2MB/s eta 0:00:01\r\u001b[K     |████████████████████████▋       | 1.2MB 9.2MB/s eta 0:00:01\r\u001b[K     |████████████████████████▉       | 1.2MB 9.2MB/s eta 0:00:01\r\u001b[K     |█████████████████████████       | 1.2MB 9.2MB/s eta 0:00:01\r\u001b[K     |█████████████████████████▎      | 1.2MB 9.2MB/s eta 0:00:01\r\u001b[K     |█████████████████████████▌      | 1.2MB 9.2MB/s eta 0:00:01\r\u001b[K     |█████████████████████████▊      | 1.2MB 9.2MB/s eta 0:00:01\r\u001b[K     |█████████████████████████▉      | 1.2MB 9.2MB/s eta 0:00:01\r\u001b[K     |██████████████████████████      | 1.2MB 9.2MB/s eta 0:00:01\r\u001b[K     |██████████████████████████▎     | 1.3MB 9.2MB/s eta 0:00:01\r\u001b[K     |██████████████████████████▌     | 1.3MB 9.2MB/s eta 0:00:01\r\u001b[K     |██████████████████████████▊     | 1.3MB 9.2MB/s eta 0:00:01\r\u001b[K     |███████████████████████████     | 1.3MB 9.2MB/s eta 0:00:01\r\u001b[K     |███████████████████████████▏    | 1.3MB 9.2MB/s eta 0:00:01\r\u001b[K     |███████████████████████████▍    | 1.3MB 9.2MB/s eta 0:00:01\r\u001b[K     |███████████████████████████▋    | 1.3MB 9.2MB/s eta 0:00:01\r\u001b[K     |███████████████████████████▉    | 1.3MB 9.2MB/s eta 0:00:01\r\u001b[K     |████████████████████████████    | 1.3MB 9.2MB/s eta 0:00:01\r\u001b[K     |████████████████████████████▎   | 1.4MB 9.2MB/s eta 0:00:01\r\u001b[K     |████████████████████████████▌   | 1.4MB 9.2MB/s eta 0:00:01\r\u001b[K     |████████████████████████████▊   | 1.4MB 9.2MB/s eta 0:00:01\r\u001b[K     |████████████████████████████▉   | 1.4MB 9.2MB/s eta 0:00:01\r\u001b[K     |█████████████████████████████   | 1.4MB 9.2MB/s eta 0:00:01\r\u001b[K     |█████████████████████████████▎  | 1.4MB 9.2MB/s eta 0:00:01\r\u001b[K     |█████████████████████████████▌  | 1.4MB 9.2MB/s eta 0:00:01\r\u001b[K     |█████████████████████████████▊  | 1.4MB 9.2MB/s eta 0:00:01\r\u001b[K     |██████████████████████████████  | 1.4MB 9.2MB/s eta 0:00:01\r\u001b[K     |██████████████████████████████▏ | 1.4MB 9.2MB/s eta 0:00:01\r\u001b[K     |██████████████████████████████▍ | 1.5MB 9.2MB/s eta 0:00:01\r\u001b[K     |██████████████████████████████▋ | 1.5MB 9.2MB/s eta 0:00:01\r\u001b[K     |██████████████████████████████▉ | 1.5MB 9.2MB/s eta 0:00:01\r\u001b[K     |███████████████████████████████ | 1.5MB 9.2MB/s eta 0:00:01\r\u001b[K     |███████████████████████████████▎| 1.5MB 9.2MB/s eta 0:00:01\r\u001b[K     |███████████████████████████████▌| 1.5MB 9.2MB/s eta 0:00:01\r\u001b[K     |███████████████████████████████▋| 1.5MB 9.2MB/s eta 0:00:01\r\u001b[K     |███████████████████████████████▉| 1.5MB 9.2MB/s eta 0:00:01\r\u001b[K     |████████████████████████████████| 1.5MB 9.2MB/s \n",
            "\u001b[?25hRequirement already satisfied: numpy in /usr/local/lib/python3.6/dist-packages (from mahotas) (1.18.2)\n",
            "Building wheels for collected packages: mahotas\n",
            "  Building wheel for mahotas (setup.py) ... \u001b[?25l\u001b[?25hdone\n",
            "  Created wheel for mahotas: filename=mahotas-1.4.9-cp36-cp36m-linux_x86_64.whl size=4265661 sha256=f3d99439900120f03a3e4e0b77dda624fb7b0f407bddc40a1ab1369247e8e9f6\n",
            "  Stored in directory: /root/.cache/pip/wheels/02/e7/50/b67eee3b19c479cc5b41f10230bf9c1556be6eaaf095c6e997\n",
            "Successfully built mahotas\n",
            "Installing collected packages: mahotas\n",
            "Successfully installed mahotas-1.4.9\n"
          ],
          "name": "stdout"
        }
      ]
    },
    {
      "cell_type": "code",
      "metadata": {
        "id": "XBCyxlSmWLRH",
        "colab_type": "code",
        "colab": {}
      },
      "source": [
        "# fotos pequenas \n",
        "# 02_Mahotas_fracionado_B_mar_03_2020.ipynb \n",
        "# fotos grandes\n",
        "# 02_Mahotas_fracionado_A_mar_03_2020.ipynb"
      ],
      "execution_count": 0,
      "outputs": []
    },
    {
      "cell_type": "code",
      "metadata": {
        "id": "8yb-DpxXF8Ht",
        "colab_type": "code",
        "colab": {}
      },
      "source": [
        "Escolha=['ASM', 'constrast', 'correl', 'variance', 'inv diff mom', 'sum aveg', \n",
        "         'sum var', 'sum entropy', 'entropy', 'dif var', 'dif entropy', \n",
        "         'IMC1', 'IMC2']\n",
        "Prop=Escolha[1] # Propriedade a escolher para ter picos, largura de pico, proeminencia,..."
      ],
      "execution_count": 0,
      "outputs": []
    },
    {
      "cell_type": "code",
      "metadata": {
        "id": "W0wfLMP8nWAM",
        "colab_type": "code",
        "outputId": "1fc97f23-54fc-47a4-b23c-87a53e315a59",
        "colab": {
          "base_uri": "https://localhost:8080/",
          "height": 139
        }
      },
      "source": [
        "!git clone https://github.com/ucfilho/marquesgabi_fev_2020 #clonar do Github\n",
        "%cd marquesgabi_fev_2020"
      ],
      "execution_count": 4,
      "outputs": [
        {
          "output_type": "stream",
          "text": [
            "Cloning into 'marquesgabi_fev_2020'...\n",
            "remote: Enumerating objects: 73, done.\u001b[K\n",
            "remote: Counting objects:   1% (1/73)\u001b[K\rremote: Counting objects:   2% (2/73)\u001b[K\rremote: Counting objects:   4% (3/73)\u001b[K\rremote: Counting objects:   5% (4/73)\u001b[K\rremote: Counting objects:   6% (5/73)\u001b[K\rremote: Counting objects:   8% (6/73)\u001b[K\rremote: Counting objects:   9% (7/73)\u001b[K\rremote: Counting objects:  10% (8/73)\u001b[K\rremote: Counting objects:  12% (9/73)\u001b[K\rremote: Counting objects:  13% (10/73)\u001b[K\rremote: Counting objects:  15% (11/73)\u001b[K\rremote: Counting objects:  16% (12/73)\u001b[K\rremote: Counting objects:  17% (13/73)\u001b[K\rremote: Counting objects:  19% (14/73)\u001b[K\rremote: Counting objects:  20% (15/73)\u001b[K\rremote: Counting objects:  21% (16/73)\u001b[K\rremote: Counting objects:  23% (17/73)\u001b[K\rremote: Counting objects:  24% (18/73)\u001b[K\rremote: Counting objects:  26% (19/73)\u001b[K\rremote: Counting objects:  27% (20/73)\u001b[K\rremote: Counting objects:  28% (21/73)\u001b[K\rremote: Counting objects:  30% (22/73)\u001b[K\rremote: Counting objects:  31% (23/73)\u001b[K\rremote: Counting objects:  32% (24/73)\u001b[K\rremote: Counting objects:  34% (25/73)\u001b[K\rremote: Counting objects:  35% (26/73)\u001b[K\rremote: Counting objects:  36% (27/73)\u001b[K\rremote: Counting objects:  38% (28/73)\u001b[K\rremote: Counting objects:  39% (29/73)\u001b[K\rremote: Counting objects:  41% (30/73)\u001b[K\rremote: Counting objects:  42% (31/73)\u001b[K\rremote: Counting objects:  43% (32/73)\u001b[K\rremote: Counting objects:  45% (33/73)\u001b[K\rremote: Counting objects:  46% (34/73)\u001b[K\rremote: Counting objects:  47% (35/73)\u001b[K\rremote: Counting objects:  49% (36/73)\u001b[K\rremote: Counting objects:  50% (37/73)\u001b[K\rremote: Counting objects:  52% (38/73)\u001b[K\rremote: Counting objects:  53% (39/73)\u001b[K\rremote: Counting objects:  54% (40/73)\u001b[K\rremote: Counting objects:  56% (41/73)\u001b[K\rremote: Counting objects:  57% (42/73)\u001b[K\rremote: Counting objects:  58% (43/73)\u001b[K\rremote: Counting objects:  60% (44/73)\u001b[K\rremote: Counting objects:  61% (45/73)\u001b[K\rremote: Counting objects:  63% (46/73)\u001b[K\rremote: Counting objects:  64% (47/73)\u001b[K\rremote: Counting objects:  65% (48/73)\u001b[K\rremote: Counting objects:  67% (49/73)\u001b[K\rremote: Counting objects:  68% (50/73)\u001b[K\rremote: Counting objects:  69% (51/73)\u001b[K\rremote: Counting objects:  71% (52/73)\u001b[K\rremote: Counting objects:  72% (53/73)\u001b[K\rremote: Counting objects:  73% (54/73)\u001b[K\rremote: Counting objects:  75% (55/73)\u001b[K\rremote: Counting objects:  76% (56/73)\u001b[K\rremote: Counting objects:  78% (57/73)\u001b[K\rremote: Counting objects:  79% (58/73)\u001b[K\rremote: Counting objects:  80% (59/73)\u001b[K\rremote: Counting objects:  82% (60/73)\u001b[K\rremote: Counting objects:  83% (61/73)\u001b[K\rremote: Counting objects:  84% (62/73)\u001b[K\rremote: Counting objects:  86% (63/73)\u001b[K\rremote: Counting objects:  87% (64/73)\u001b[K\rremote: Counting objects:  89% (65/73)\u001b[K\rremote: Counting objects:  90% (66/73)\u001b[K\rremote: Counting objects:  91% (67/73)\u001b[K\rremote: Counting objects:  93% (68/73)\u001b[K\rremote: Counting objects:  94% (69/73)\u001b[K\rremote: Counting objects:  95% (70/73)\u001b[K\rremote: Counting objects:  97% (71/73)\u001b[K\rremote: Counting objects:  98% (72/73)\u001b[K\rremote: Counting objects: 100% (73/73)\u001b[K\rremote: Counting objects: 100% (73/73), done.\u001b[K\n",
            "remote: Compressing objects:   1% (1/71)\u001b[K\rremote: Compressing objects:   2% (2/71)\u001b[K\rremote: Compressing objects:   4% (3/71)\u001b[K\rremote: Compressing objects:   5% (4/71)\u001b[K\rremote: Compressing objects:   7% (5/71)\u001b[K\rremote: Compressing objects:   8% (6/71)\u001b[K\rremote: Compressing objects:   9% (7/71)\u001b[K\rremote: Compressing objects:  11% (8/71)\u001b[K\rremote: Compressing objects:  12% (9/71)\u001b[K\rremote: Compressing objects:  14% (10/71)\u001b[K\rremote: Compressing objects:  15% (11/71)\u001b[K\rremote: Compressing objects:  16% (12/71)\u001b[K\rremote: Compressing objects:  18% (13/71)\u001b[K\rremote: Compressing objects:  19% (14/71)\u001b[K\rremote: Compressing objects:  21% (15/71)\u001b[K\rremote: Compressing objects:  22% (16/71)\u001b[K\rremote: Compressing objects:  23% (17/71)\u001b[K\rremote: Compressing objects:  25% (18/71)\u001b[K\rremote: Compressing objects:  26% (19/71)\u001b[K\rremote: Compressing objects:  28% (20/71)\u001b[K\rremote: Compressing objects:  29% (21/71)\u001b[K\rremote: Compressing objects:  30% (22/71)\u001b[K\rremote: Compressing objects:  32% (23/71)\u001b[K\rremote: Compressing objects:  33% (24/71)\u001b[K\rremote: Compressing objects:  35% (25/71)\u001b[K\rremote: Compressing objects:  36% (26/71)\u001b[K\rremote: Compressing objects:  38% (27/71)\u001b[K\rremote: Compressing objects:  39% (28/71)\u001b[K\rremote: Compressing objects:  40% (29/71)\u001b[K\rremote: Compressing objects:  42% (30/71)\u001b[K\rremote: Compressing objects:  43% (31/71)\u001b[K\rremote: Compressing objects:  45% (32/71)\u001b[K\rremote: Compressing objects:  46% (33/71)\u001b[K\rremote: Compressing objects:  47% (34/71)\u001b[K\rremote: Compressing objects:  49% (35/71)\u001b[K\rremote: Compressing objects:  50% (36/71)\u001b[K\rremote: Compressing objects:  52% (37/71)\u001b[K\rremote: Compressing objects:  53% (38/71)\u001b[K\rremote: Compressing objects:  54% (39/71)\u001b[K\rremote: Compressing objects:  56% (40/71)\u001b[K\rremote: Compressing objects:  57% (41/71)\u001b[K\rremote: Compressing objects:  59% (42/71)\u001b[K\rremote: Compressing objects:  60% (43/71)\u001b[K\rremote: Compressing objects:  61% (44/71)\u001b[K\rremote: Compressing objects:  63% (45/71)\u001b[K\rremote: Compressing objects:  64% (46/71)\u001b[K\rremote: Compressing objects:  66% (47/71)\u001b[K\rremote: Compressing objects:  67% (48/71)\u001b[K\rremote: Compressing objects:  69% (49/71)\u001b[K\rremote: Compressing objects:  70% (50/71)\u001b[K\rremote: Compressing objects:  71% (51/71)\u001b[K\rremote: Compressing objects:  73% (52/71)\u001b[K\rremote: Compressing objects:  74% (53/71)\u001b[K\rremote: Compressing objects:  76% (54/71)\u001b[K\rremote: Compressing objects:  77% (55/71)\u001b[K\rremote: Compressing objects:  78% (56/71)\u001b[K\rremote: Compressing objects:  80% (57/71)\u001b[K\rremote: Compressing objects:  81% (58/71)\u001b[K\rremote: Compressing objects:  83% (59/71)\u001b[K\rremote: Compressing objects:  84% (60/71)\u001b[K\rremote: Compressing objects:  85% (61/71)\u001b[K\rremote: Compressing objects:  87% (62/71)\u001b[K\rremote: Compressing objects:  88% (63/71)\u001b[K\rremote: Compressing objects:  90% (64/71)\u001b[K\rremote: Compressing objects:  91% (65/71)\u001b[K\rremote: Compressing objects:  92% (66/71)\u001b[K\rremote: Compressing objects:  94% (67/71)\u001b[K\rremote: Compressing objects:  95% (68/71)\u001b[K\rremote: Compressing objects:  97% (69/71)\u001b[K\rremote: Compressing objects:  98% (70/71)\u001b[K\rremote: Compressing objects: 100% (71/71)\u001b[K\rremote: Compressing objects: 100% (71/71), done.\u001b[K\n",
            "remote: Total 73 (delta 37), reused 0 (delta 0), pack-reused 0\u001b[K\n",
            "Unpacking objects: 100% (73/73), done.\n",
            "/content/marquesgabi_fev_2020\n"
          ],
          "name": "stdout"
        }
      ]
    },
    {
      "cell_type": "code",
      "metadata": {
        "id": "SzWdrvAgvBId",
        "colab_type": "code",
        "colab": {}
      },
      "source": [
        "import numpy as np\n",
        "import cv2\n",
        "from skimage import data\n",
        "import matplotlib.pyplot as plt\n",
        "import matplotlib\n",
        "import pandas as pd\n",
        "from skimage import io, util\n",
        "import mahotas.features.texture as mht\n",
        "import mahotas.features\n",
        "import os \n",
        "import zipfile\n",
        "from skimage import filters\n",
        "from skimage import exposure\n",
        "import skimage.feature as sk\n",
        "from google.colab import files\n",
        "from numpy import linalg as LA\n",
        "from scipy import stats\n",
        "from scipy.signal import find_peaks\n",
        "from scipy.signal import peak_prominences\n",
        "from scipy.signal import peak_widths\n",
        "from scipy import integrate\n",
        "import re\n",
        "import Go2BlackWhite\n",
        "import Go2Mahotas\n",
        "%matplotlib inline"
      ],
      "execution_count": 0,
      "outputs": []
    },
    {
      "cell_type": "code",
      "metadata": {
        "id": "8UmjK94cT5sP",
        "colab_type": "code",
        "outputId": "f02718ca-f77b-4286-ea89-3d582597546f",
        "colab": {
          "base_uri": "https://localhost:8080/",
          "height": 156
        }
      },
      "source": [
        "!git clone https://github.com/marquesgabi/Doutorado\n",
        "%cd Doutorado"
      ],
      "execution_count": 6,
      "outputs": [
        {
          "output_type": "stream",
          "text": [
            "Cloning into 'Doutorado'...\n",
            "remote: Enumerating objects: 76, done.\u001b[K\n",
            "remote: Counting objects: 100% (76/76), done.\u001b[K\n",
            "remote: Compressing objects: 100% (76/76), done.\u001b[K\n",
            "remote: Total 223 (delta 33), reused 0 (delta 0), pack-reused 147\u001b[K\n",
            "Receiving objects: 100% (223/223), 87.41 MiB | 24.16 MiB/s, done.\n",
            "Resolving deltas: 100% (102/102), done.\n",
            "/content/marquesgabi_fev_2020/Doutorado\n"
          ],
          "name": "stdout"
        }
      ]
    },
    {
      "cell_type": "code",
      "metadata": {
        "id": "xoW1HoWp3qNO",
        "colab_type": "code",
        "colab": {}
      },
      "source": [
        "\n",
        "Size=20 # tamanho da foto\n",
        "Sub_Size=int(Size/5) # tamanho do fracionamento\n",
        "Row_Crop=1/2 # posicao do corte\n",
        "Crop=int(Size*Row_Crop)"
      ],
      "execution_count": 0,
      "outputs": []
    },
    {
      "cell_type": "code",
      "metadata": {
        "id": "c43TnWalRs_H",
        "colab_type": "code",
        "colab": {}
      },
      "source": [
        "Transfere='Fotos9Amostras720.zip'\n",
        "file_name = zipfile.ZipFile(Transfere, 'r')\n",
        "file_name.extractall()"
      ],
      "execution_count": 0,
      "outputs": []
    },
    {
      "cell_type": "code",
      "metadata": {
        "id": "GrLtSCRor_By",
        "colab_type": "code",
        "outputId": "3a1924b3-0402-4d0c-9705-01cfad42059e",
        "colab": {
          "base_uri": "https://localhost:8080/",
          "height": 265
        }
      },
      "source": [
        "ww,img_name=Go2BlackWhite.BlackWhite(Transfere,Size)\n",
        "plt.axis(\"off\")\n",
        "plt.imshow(ww[539], cmap = \"gray\")"
      ],
      "execution_count": 9,
      "outputs": [
        {
          "output_type": "execute_result",
          "data": {
            "text/plain": [
              "<matplotlib.image.AxesImage at 0x7fb5645ea0b8>"
            ]
          },
          "metadata": {
            "tags": []
          },
          "execution_count": 9
        },
        {
          "output_type": "display_data",
          "data": {
            "image/png": "[encoded data removed]",
            "text/plain": [
              "<Figure size 432x288 with 1 Axes>"
            ]
          },
          "metadata": {
            "tags": []
          }
        }
      ]
    },
    {
      "cell_type": "code",
      "metadata": {
        "id": "rDUgTX8BMOoD",
        "colab_type": "code",
        "colab": {}
      },
      "source": [
        "NumFotos=len(img_name)"
      ],
      "execution_count": 0,
      "outputs": []
    },
    {
      "cell_type": "code",
      "metadata": {
        "id": "MukX2r3ys3tm",
        "colab_type": "code",
        "colab": {}
      },
      "source": [
        "# Find the list elements starting with specific letter\n",
        "subs = 'B'\n",
        "Buraco = [x for x in img_name if re.search(subs, x)] \n",
        "subs = 'G'\n",
        "Grao = [x for x in img_name if re.search(subs, x)] \n",
        "subs = 'I'\n",
        "Indef = [x for x in img_name if re.search(subs, x)] "
      ],
      "execution_count": 0,
      "outputs": []
    },
    {
      "cell_type": "code",
      "metadata": {
        "id": "jEeQ6NiHRLJs",
        "colab_type": "code",
        "colab": {}
      },
      "source": [
        "# ESTA PARTE PRECISA PARA CALCULAR OS PICOS E AREA ABAIXO DA CURVA, CADA\n",
        "# LINHA E UMA CURVA DA PROPRIEDADE ESCOLHIDA PARA UMA FOTO E CADA COLUNA \n",
        "# UM QUADRADO DA FOTO ANDANDO...\n",
        "Todas_Fotos=[] \n",
        "# Todas_Fotos tem os valores medio da propriedade cada linha representa \n",
        "# uma foto e cada coluna as subdivisoes da foto (um quadrado que anda ao \n",
        "# longo da foto)\n",
        "for k in range(NumFotos):\n",
        "  Prop_Escolhida=[]\n",
        "  #p_foto=ww[k,:].reshape(Size,Size)\n",
        "  p_foto=ww[k].reshape(Size,Size)\n",
        "  GLCM=[]\n",
        "  glcm_haralick=[]\n",
        "  x_ref=[]\n",
        "  Count=Sub_Size\n",
        "  p=np.zeros((Sub_Size,Sub_Size))\n",
        "  j_ref=0\n",
        "  Cada_foto=[]\n",
        "  Posicao_X=[]\n",
        "  Posicao_Y=[]\n",
        "  for k in range(Size):\n",
        "    if((k+Sub_Size-1)<Size):\n",
        "      #print(\"(k+Sub_Size)=\",(k+Sub_Size),\"k=\",k)\n",
        "      for i in range(Sub_Size):\n",
        "        Posicao_X.append(Crop+i)\n",
        "        for j in range(Sub_Size):\n",
        "          p[i,j]=p_foto[Crop+i,j+k]\n",
        "          Posicao_Y.append(j+k)\n",
        "\n",
        "      WW=np.copy(p) \n",
        "      Cada_foto.append(WW.ravel())\n",
        "      x_ref.append(Count-Sub_Size)\n",
        "      Count=Count+1\n",
        "     \n",
        "      Mahotas =pd.DataFrame(mahotas.features.haralick(p.astype(int)), columns =Escolha)\n",
        "      Prop_Escolhida.append(Mahotas[Prop].mean())\n",
        "\n",
        "  Todas_Fotos.append(Prop_Escolhida)\n",
        "\n",
        "df=pd.DataFrame(Todas_Fotos)\n",
        "\n"
      ],
      "execution_count": 0,
      "outputs": []
    },
    {
      "cell_type": "code",
      "metadata": {
        "id": "Liq_cEDz1kPV",
        "colab_type": "code",
        "outputId": "8204071b-1dbf-44e5-b7b4-e84a7f8a83f2",
        "colab": {
          "base_uri": "https://localhost:8080/",
          "height": 260
        }
      },
      "source": [
        "print(df)"
      ],
      "execution_count": 13,
      "outputs": [
        {
          "output_type": "stream",
          "text": [
            "              0            1           2   ...          14          15           16\n",
            "0     289.777778   253.722222  282.965278  ...   58.423611   77.819444    62.166667\n",
            "1     280.250000   140.520833   36.500000  ...   43.722222   46.013889    53.847222\n",
            "2      61.888889    55.472222   46.937500  ...  206.416667  265.451389   458.125000\n",
            "3    1618.798611  1373.083333  775.562500  ...  267.527778  608.069444   622.652778\n",
            "4      93.312500    63.951389   11.368056  ...  317.256944  316.034722   229.923611\n",
            "..           ...          ...         ...  ...         ...         ...          ...\n",
            "715   147.111111    10.034722   12.361111  ...  313.284722  762.381944  1372.465278\n",
            "716   261.347222   287.013889  161.187500  ...   50.145833  133.520833   268.055556\n",
            "717    62.291667    40.458333   33.527778  ...   33.180556   25.229167    15.722222\n",
            "718    63.986111    43.104167   24.840278  ...  178.347222  127.006944  8161.145833\n",
            "719  1495.173611  1279.555556  743.333333  ...   79.256944  486.138889  1246.791667\n",
            "\n",
            "[720 rows x 17 columns]\n"
          ],
          "name": "stdout"
        }
      ]
    },
    {
      "cell_type": "code",
      "metadata": {
        "id": "DEJ2xcDgtNRH",
        "colab_type": "code",
        "outputId": "88c612ec-44de-447f-ad25-2a380b636818",
        "colab": {
          "base_uri": "https://localhost:8080/",
          "height": 52
        }
      },
      "source": [
        "print(len(Cada_foto[0])) # Cada_foto contem a foto pequena varrida\n",
        "print(np.array(Cada_foto).shape)"
      ],
      "execution_count": 14,
      "outputs": [
        {
          "output_type": "stream",
          "text": [
            "16\n",
            "(17, 16)\n"
          ],
          "name": "stdout"
        }
      ]
    },
    {
      "cell_type": "code",
      "metadata": {
        "id": "hZF4pOns2qOy",
        "colab_type": "code",
        "outputId": "811b7cc2-f149-4518-c324-487bec62211d",
        "colab": {
          "base_uri": "https://localhost:8080/",
          "height": 35
        }
      },
      "source": [
        "print(NumFotos)"
      ],
      "execution_count": 15,
      "outputs": [
        {
          "output_type": "stream",
          "text": [
            "720\n"
          ],
          "name": "stdout"
        }
      ]
    },
    {
      "cell_type": "code",
      "metadata": {
        "id": "IPEQ7pf5NUjs",
        "colab_type": "code",
        "colab": {}
      },
      "source": [
        "# esta parte calcula picos, area abaixo da curva antes ela precisa gerar \n",
        "# o dataframe que contem a propriedade escolhida com uma foto em cada linha ....\n",
        "Features_Total=[]\n",
        "for i in range(NumFotos):\n",
        "  x=df.iloc[i]\n",
        "  peaks, rr = find_peaks(x, height=0)\n",
        "\n",
        "  N_peaks=len(peaks)\n",
        "  prominences = peak_prominences(x, peaks)\n",
        "  \n",
        "  #Area = simps(x, dx=1)\n",
        "  Area = integrate.simps(x, dx=1)\n",
        "  if(len(peaks)==0):\n",
        "    Width_peaks =0\n",
        "    Width_peaks_max =0\n",
        "    Width_peaks_min =0\n",
        "    Media_proem=0    \n",
        "  else:\n",
        "    Width_peaks =np.mean(peak_widths(x, peaks, rel_height=0.5))\n",
        "    Width_peaks_max =np.max(peak_widths(x, peaks, rel_height=0.5))\n",
        "    Width_peaks_min =np.min(peak_widths(x, peaks, rel_height=0.5))\n",
        "    Media_proem=np.mean(prominences)\n",
        "  Median = np.median(x)\n",
        "  Mode= stats.mode(x)[0]\n",
        "  Mean=np.mean(x)\n",
        "  Sd=np.std(x)\n",
        "\n",
        "  Features=[]\n",
        "  Features.append(N_peaks)\n",
        "  Features.append(Media_proem )\n",
        "  Features.append(Area)\n",
        "  Features.append(Width_peaks )\n",
        "  Features.append(Width_peaks_max)\n",
        "  Features.append(Width_peaks_min)\n",
        "  Features.append(Median )\n",
        "  Features.append(Mode[0])\n",
        "  Features.append(Mean)\n",
        "  Features.append(Sd)\n",
        "\n",
        "  Features_Total.append(Features)\n",
        "\n",
        "Nomes_Fracionada=['N_peaks','Media_proem','Area','Width_peaks','Width_peaks_max',\n",
        "                    'Width_peaks_min','Median','Mode','Mean','Sd'] \n",
        "  \n",
        "Features_Total=pd.DataFrame(Features_Total,columns=Nomes_Fracionada)\n"
      ],
      "execution_count": 0,
      "outputs": []
    },
    {
      "cell_type": "code",
      "metadata": {
        "id": "JQD34kQ6y_GO",
        "colab_type": "code",
        "outputId": "47982d5a-1ee4-4dc8-f2ed-5ec0e7963b8d",
        "colab": {
          "base_uri": "https://localhost:8080/",
          "height": 260
        }
      },
      "source": [
        "print(Features_Total)"
      ],
      "execution_count": 17,
      "outputs": [
        {
          "output_type": "stream",
          "text": [
            "     N_peaks  Media_proem         Area  ...       Mode        Mean           Sd\n",
            "0          2    13.649306  1407.703704  ...   7.527778   93.163399   101.417987\n",
            "1          2   268.502315  6954.069444  ...  36.375000  402.455882   374.616672\n",
            "2          2    16.582176  2372.189815  ...  46.937500  154.894608   109.031011\n",
            "3          2     6.756944  5663.775463  ...  77.493056  397.558007   451.881212\n",
            "4          3    25.916667  1681.699074  ...  10.229167  108.011438    94.422902\n",
            "..       ...          ...          ...  ...        ...         ...          ...\n",
            "715        2     2.827546  2325.761574  ...  10.034722  185.276144   346.456982\n",
            "716        2    10.042824  1243.384259  ...   8.180556   88.034314    95.038247\n",
            "717        3    12.634259   466.212963  ...   6.069444   29.092729    21.045419\n",
            "718        2    21.590278  4145.969907  ...  24.840278  563.948121  1900.115260\n",
            "719        0     0.000000  5489.270833  ...  19.201389  405.430964   487.975019\n",
            "\n",
            "[720 rows x 10 columns]\n"
          ],
          "name": "stdout"
        }
      ]
    },
    {
      "cell_type": "code",
      "metadata": {
        "id": "dZSOVH78CeU_",
        "colab_type": "code",
        "outputId": "8f0c8044-f818-4de1-e268-ce57886a3c18",
        "colab": {
          "base_uri": "https://localhost:8080/",
          "height": 124
        }
      },
      "source": [
        "# found drive\n",
        "from google.colab import drive\n",
        "drive.mount('drive')"
      ],
      "execution_count": 18,
      "outputs": [
        {
          "output_type": "stream",
          "text": [
            "Go to this URL in a browser: https://accounts.google.com/o/oauth2/auth?client_id=947318989803-6bn6qk8qdgf4n4g3pfee6491hc0brc4i.apps.googleusercontent.com&redirect_uri=urn%3aietf%3awg%3aoauth%3a2.0%3aoob&response_type=code&scope=email%20https%3a%2f%2fwww.googleapis.com%2fauth%2fdocs.test%20https%3a%2f%2fwww.googleapis.com%2fauth%2fdrive%20https%3a%2f%2fwww.googleapis.com%2fauth%2fdrive.photos.readonly%20https%3a%2f%2fwww.googleapis.com%2fauth%2fpeopleapi.readonly\n",
            "\n",
            "Enter your authorization code:\n",
            "··········\n",
            "Mounted at drive\n"
          ],
          "name": "stdout"
        }
      ]
    },
    {
      "cell_type": "code",
      "metadata": {
        "id": "oIVbtweYI7e0",
        "colab_type": "code",
        "outputId": "ec5903d7-f4a6-44ca-f7c1-01cf098689c7",
        "colab": {
          "base_uri": "https://localhost:8080/",
          "height": 208
        }
      },
      "source": [
        "print(Features_Total.iloc[92])\n"
      ],
      "execution_count": 19,
      "outputs": [
        {
          "output_type": "stream",
          "text": [
            "N_peaks               2.000000\n",
            "Media_proem         112.196759\n",
            "Area               7345.708333\n",
            "Width_peaks         124.182847\n",
            "Width_peaks_max     496.218750\n",
            "Width_peaks_min       2.704120\n",
            "Median              539.111111\n",
            "Mode                 26.979167\n",
            "Mean                450.913807\n",
            "Sd                  208.849337\n",
            "Name: 92, dtype: float64\n"
          ],
          "name": "stdout"
        }
      ]
    },
    {
      "cell_type": "code",
      "metadata": {
        "id": "I0g7qrM-IxvF",
        "colab_type": "code",
        "outputId": "216cb89e-e4ca-452d-90ae-93405890b4be",
        "colab": {
          "base_uri": "https://localhost:8080/",
          "height": 208
        }
      },
      "source": [
        "\n",
        "print(Features_Total.iloc[520])"
      ],
      "execution_count": 20,
      "outputs": [
        {
          "output_type": "stream",
          "text": [
            "N_peaks               2.000000\n",
            "Media_proem          25.549769\n",
            "Area               1040.918981\n",
            "Width_peaks          18.287807\n",
            "Width_peaks_max      67.666667\n",
            "Width_peaks_min       2.905374\n",
            "Median               46.965278\n",
            "Mode                 11.236111\n",
            "Mean                 67.365605\n",
            "Sd                   51.580904\n",
            "Name: 520, dtype: float64\n"
          ],
          "name": "stdout"
        }
      ]
    },
    {
      "cell_type": "code",
      "metadata": {
        "id": "Lw8rqNu0CpQv",
        "colab_type": "code",
        "colab": {}
      },
      "source": [
        "# get csv file\n",
        "#Features_Total.to_csv('Contraste_Fracionado_fev_2020.csv')\n",
        "# a mundaca do formato  float_format=\"%.5f\"   objetiva \n",
        "# evitar corromper alguns pontos como aconteceu \n",
        "# antes desta mudanca mudar \n",
        "Features_Total.to_csv('Contraste_Fracionado_mar_2020.csv', float_format=\"%.5f\")"
      ],
      "execution_count": 0,
      "outputs": []
    },
    {
      "cell_type": "code",
      "metadata": {
        "id": "6KFSiJ3tB7L2",
        "colab_type": "code",
        "colab": {}
      },
      "source": [
        "# save in drive\n",
        "!cp Contraste_Fracionado_mar_2020.csv drive/My\\ Drive/Maria_Gabriela_Textura_dados_jan_2020/"
      ],
      "execution_count": 0,
      "outputs": []
    }
  ]
}